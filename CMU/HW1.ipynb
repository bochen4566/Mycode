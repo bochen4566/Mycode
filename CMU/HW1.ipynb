{
 "cells": [
  {
   "cell_type": "markdown",
   "metadata": {},
   "source": [
    "# Unstructured Data Analytics HW1\n",
    "\n",
    "Name:Bochen Wang\n",
    "\n",
    "Andrew ID:bochenw\n",
    "\n",
    "Collaborators (if none, say \"none\"; do *not* leave this blank):Consulted ChatGPT\n",
    "\n",
    "Reminder: you should not be sharing code."
   ]
  },
  {
   "cell_type": "code",
   "execution_count": 22,
   "metadata": {},
   "outputs": [
    {
     "name": "stdout",
     "output_type": "stream",
     "text": [
      "zsh:1: no matches found: nbconvert[webpdf]\n",
      "Note: you may need to restart the kernel to use updated packages.\n"
     ]
    }
   ],
   "source": [
    "pip install nbconvert[webpdf]"
   ]
  },
  {
   "cell_type": "markdown",
   "metadata": {},
   "source": [
    "**Reminder:** As stated in Lecture 1, homework assignments this semester will be submitted as PDFs and, in particular, we will not be re-running your code. Please make sure that you have run all your code cells so that the code cell outputs are actually displayed. To save your Jupyter notebook as a PDF, we recommend simply using your browser's print functionality and using that to print/save the notebook as a PDF."
   ]
  },
  {
   "cell_type": "markdown",
   "metadata": {},
   "source": [
    "**Warning: make sure your compute environment is set up first.** This homework assignment assumes that you have already installed Anaconda Python 3 and spaCy. Instructions for installing these are part of the tutorial [here](https://www.andrew.cmu.edu/user/georgech/95-865/Anaconda,%20Jupyter,%20and%20spaCy%20setup%20tutorial.pdf)."
   ]
  },
  {
   "cell_type": "markdown",
   "metadata": {},
   "source": [
    "### Instructions\n",
    "1. Fill in your name, Andrew ID, and collaborators above.\n",
    "2. Fill in the code/text blocks to answer each question.\n",
    "3. Do *not* change any of the existing code provided.\n",
    "4. Run the entire notebook *before* submitting it (as a PDF, as stated above). Again, we will *not* be re-running your code."
   ]
  },
  {
   "cell_type": "markdown",
   "metadata": {},
   "source": [
    "### [Problem 1] Basic Text Analysis [45 pts]\n",
    "\n",
    "This problem involves a mix of Python review (loops, conditionals, counters/dictionaries, sorting) and learning to work with a sizable collection of text data.\n",
    "\n",
    "You will be looking at a phenomenon of \"natural languages\" (i.e., human languages, such as English) called *Zipf's law*, which relates how frequently a word occurs in a language to its \"rank\" (the word with rank 1 is the most frequently occurring word, the word with rank 2 is the second most frequently occurring word, etc). Roughly speaking, the word with rank 1 appears twice as likely as the word with rank 2, and the three times as likely as the word with rank 3, and so forth. (Some details on Zipf's law can be found on [Wikipedia](https://en.wikipedia.org/wiki/Zipf%27s_law).) In this problem, you are going to check whether Zipf's law holds for a real dataset of text documents.\n",
    "\n",
    "The dataset we look at is a collection of the 100 most popular books downloaded from the [Gutenburg Project](https://www.gutenberg.org/browse/scores/top). These 100 books form the corpus that we consider for this problem. Each file contains the text of a book. We will read in all 100 books.\n",
    "\n",
    "Hint: To list all files that match a certain pattern, you can use the `glob` package. Here's an example usage:\n",
    "\n",
    "```python\n",
    "import glob\n",
    "print(glob.glob('./HW1_Dataset/*.txt'))\n",
    "```\n",
    "\n",
    "**(a) Warm-up/basic Python review [15 pts across subparts].** This part serves as a warm-up, getting you familiar with the kind of code we will be writing in this class. Note that throughout part (a), your code should **not** be using spaCy.\n",
    "\n",
    "**Subpart i [5 pts].** Write a loop that iterates through all 100 books; for each book, print out its corresponding file name and also how long the book is in terms of string length (meaning that if we load in the book as a string, we compute the length of the string using the built-in Python function `len`; this is just counting the number of characters).\n",
    "\n",
    "**Please do not actually print out the contents of each book since many of the books are extremely long, and by printing out all the books' contents, you'll end up creating a Jupyter notebook that has a massive file size (and when you save it as a PDF, the PDF will have a crazy number of pages).**\n",
    "\n",
    "Hint: When debugging your code, you may want to first make sure your code runs on a few of the books rather than all 100 (for example, you can start by only having 3 of the text files in `HW1_Dataset`). Once you're confident that your solution is correct on a few text files, then run on all of them! This is a standard approach to debugging code that is meant to handle large datasets.\n",
    "\n",
    "Your output should look like (although there should be 100 books rather than 3 as shown below; also, the ordering of the books might be different on your machine):\n",
    "\n",
    "```\n",
    "./HW1_Dataset/War and Peace by graf Leo Tolstoy (251).txt 3227580\n",
    "./HW1_Dataset/Democracy in America — Volume 1 by Alexis de Tocqueville (147).txt 1148435\n",
    "./HW1_Dataset/Frankenstein; Or, The Modern Prometheus by Mary Wollstonecraft Shelley (501).txt 441034\n",
    "```"
   ]
  },
  {
   "cell_type": "code",
   "execution_count": 4,
   "metadata": {},
   "outputs": [
    {
     "name": "stdout",
     "output_type": "stream",
     "text": [
      "./HW1_Dataset/War and Peace by graf Leo Tolstoy (251).txt 3227580\n",
      "\n",
      "./HW1_Dataset/Democracy in America — Volume 1 by Alexis de Tocqueville (147).txt 1148435\n",
      "\n",
      "./HW1_Dataset/Frankenstein; Or, The Modern Prometheus by Mary Wollstonecraft Shelley (501).txt 441034\n",
      "\n",
      "./HW1_Dataset/The King James Version of the Bible (132).txt 4351846\n",
      "\n",
      "./HW1_Dataset/Et dukkehjem. English by Henrik Ibsen (557).txt 161241\n",
      "\n",
      "./HW1_Dataset/Outpost in the Wilderness_ Fort Wayne, 1706-1828 by Charles Poinsatte (161).txt 363234\n",
      "\n",
      "./HW1_Dataset/The Romance of Lust_ A Classic Victorian erotic novel by Anonymous (294).txt 1051148\n",
      "\n",
      "./HW1_Dataset/The Odyssey by Homer (124).txt 697404\n",
      "\n",
      "./HW1_Dataset/A History of Spanish Literature by James Fitzmaurice-Kelly (109).txt 765918\n",
      "\n",
      "./HW1_Dataset/The Philosophy of Spiritual Activity by Rudolf Steiner (144).txt 545031\n",
      "\n",
      "./HW1_Dataset/My Fifteen Lost Years by Florence Elizabeth Maybrick (499).txt 383694\n",
      "\n",
      "./HW1_Dataset/Prestuplenie i nakazanie. English by Fyodor Dostoyevsky (160).txt 1154508\n",
      "\n",
      "./HW1_Dataset/The History of the Peloponnesian War by Thucydides (122).txt 1200021\n",
      "\n",
      "./HW1_Dataset/Gulliver's Travels into Several Remote Nations of the World by Jonathan Swift (136).txt 600105\n",
      "\n",
      "./HW1_Dataset/The Peddler Spy by W. J. Hamilton (356).txt 197390\n",
      "\n",
      "./HW1_Dataset/Dubliners by James Joyce (219).txt 389199\n",
      "\n",
      "./HW1_Dataset/The Hound of the Baskervilles by Arthur Conan Doyle (223).txt 339188\n",
      "\n",
      "./HW1_Dataset/The Boy Fortune Hunters in China by L. Frank  Baum (215).txt 324452\n",
      "\n",
      "./HW1_Dataset/Leviathan by Thomas Hobbes (417).txt 1231784\n",
      "\n",
      "./HW1_Dataset/The Awakening, and Selected Short Stories by Kate Chopin (192).txt 378936\n",
      "\n",
      "./HW1_Dataset/The Interesting Narrative of the Life of Olaudah Equiano, Or Gustavus Vassa, The African by Equiano (114).txt 471165\n",
      "\n",
      "./HW1_Dataset/Through the Looking-Glass by Lewis Carroll (134).txt 181667\n",
      "\n",
      "./HW1_Dataset/Il Principe. English by Niccolò Machiavelli (428) (Unicode Encoding Conflict).txt 300788\n",
      "\n",
      "./HW1_Dataset/On Liberty by John Stuart Mill (116).txt 325922\n",
      "\n",
      "./HW1_Dataset/The Law of Storms by John Wilson Ross (110).txt 65264\n",
      "\n",
      "./HW1_Dataset/The Strange Case of Dr. Jekyll and Mr. Hyde by Robert Louis Stevenson (170).txt 159542\n",
      "\n",
      "./HW1_Dataset/Liberalism by L. T.  Hobhouse (119).txt 305345\n",
      "\n",
      "./HW1_Dataset/Semmering 1912 by Peter Altenberg (221).txt 264946\n",
      "\n",
      "./HW1_Dataset/Les Misérables by Victor Hugo (165) (Unicode Encoding Conflict).txt 3254333\n",
      "\n",
      "./HW1_Dataset/The Count of Monte Cristo, Illustrated by Alexandre Dumas (160).txt 2643849\n",
      "\n",
      "./HW1_Dataset/Alice in Wonderland by Lewis Carroll and Alice Gerstenberg (126).txt 104079\n",
      "\n",
      "./HW1_Dataset/Common Sense by Thomas Paine (297).txt 145353\n",
      "\n",
      "./HW1_Dataset/Narrative of the Captivity and Restoration of Mrs. Mary Rowlandson by Mary White Rowlandson (222).txt 123784\n",
      "\n",
      "./HW1_Dataset/The Divine Comedy by Dante, Illustrated by Dante Alighieri (119).txt 2161\n",
      "\n",
      "./HW1_Dataset/The Importance of Being Earnest_ A Trivial Comedy for Serious People by Oscar Wilde (454).txt 138887\n",
      "\n",
      "./HW1_Dataset/Walden, and On The Duty Of Civil Disobedience by Henry David Thoreau (180).txt 656207\n",
      "\n",
      "./HW1_Dataset/The Yellow Wallpaper by Charlotte Perkins Gilman (462).txt 50841\n",
      "\n",
      "./HW1_Dataset/Jane Eyre_ An Autobiography by Charlotte Brontë (290) (Unicode Encoding Conflict).txt 1049267\n",
      "\n",
      "./HW1_Dataset/The Kama Sutra of Vatsyayana by Vatsyayana (172).txt 351664\n",
      "\n",
      "./HW1_Dataset/Sense and Sensibility by Jane Austen (177).txt 693095\n",
      "\n",
      "./HW1_Dataset/Adventures of Huckleberry Finn by Mark Twain (401).txt 593962\n",
      "\n",
      "./HW1_Dataset/Heart of Darkness by Joseph Conrad (213).txt 229835\n",
      "\n",
      "./HW1_Dataset/The Republic by Plato (246).txt 1214387\n",
      "\n",
      "./HW1_Dataset/The Complete Works of William Shakespeare by William Shakespeare (132).txt 5465100\n",
      "\n",
      "./HW1_Dataset/The Picture of Dorian Gray by Oscar Wilde (282).txt 453169\n",
      "\n",
      "./HW1_Dataset/The Works of Edgar Allan Poe — Volume 2 by Edgar Allan Poe (137).txt 569966\n",
      "\n",
      "./HW1_Dataset/Ulysses by James Joyce (282).txt 1534140\n",
      "\n",
      "./HW1_Dataset/The Federalist Papers by Alexander Hamilton and John Jay and James Madison (116).txt 1167141\n",
      "\n",
      "./HW1_Dataset/Leaves of Grass by Walt Whitman (164).txt 757361\n",
      "\n",
      "./HW1_Dataset/Narrative of the Life of Frederick Douglass, an American Slave by Frederick Douglass (243).txt 244263\n",
      "\n",
      "./HW1_Dataset/A Study in Scarlet by Arthur Conan Doyle (163).txt 262340\n",
      "\n",
      "./HW1_Dataset/Beowulf An Anglo-Saxon Epic Poem (403).txt 292953\n",
      "\n",
      "./HW1_Dataset/The Wendigo by Algernon Blackwood (174).txt 127464\n",
      "\n",
      "./HW1_Dataset/The Scarlet Letter by Nathaniel Hawthorne (211).txt 506975\n",
      "\n",
      "./HW1_Dataset/Persuasion by Jane Austen (2234).txt 486251\n",
      "\n",
      "./HW1_Dataset/The Time Machine by H. G.  Wells (137).txt 198281\n",
      "\n",
      "./HW1_Dataset/The Guardsman by Homer Greene (175).txt 412900\n",
      "\n",
      "./HW1_Dataset/Carmilla by Joseph Sheridan Le Fanu (135).txt 176408\n",
      "\n",
      "./HW1_Dataset/Uncle Tom's Cabin by Harriet Beecher Stowe (108).txt 1025501\n",
      "\n",
      "./HW1_Dataset/A Tale of Two Cities by Charles Dickens (425).txt 776702\n",
      "\n",
      "./HW1_Dataset/Moby Dick; Or, The Whale by Herman Melville (413).txt 1238569\n",
      "\n",
      "./HW1_Dataset/Songs of Innocence, and Songs of Experience by William Blake (166).txt 51724\n",
      "\n",
      "./HW1_Dataset/Dracula by Bram Stoker (461).txt 867141\n",
      "\n",
      "./HW1_Dataset/Emma by Jane Austen (166).txt 902390\n",
      "\n",
      "./HW1_Dataset/Wuthering Heights by Emily Brontë (179) (Unicode Encoding Conflict).txt 669150\n",
      "\n",
      "./HW1_Dataset/Autobiography of Benjamin Franklin by Benjamin Franklin (247).txt 458600\n",
      "\n",
      "./HW1_Dataset/The Strange Case of Dr. Jekyll and Mr. Hyde by Robert Louis Stevenson (158).txt 158048\n",
      "\n",
      "./HW1_Dataset/Anne of Green Gables by L. M.  Montgomery (114).txt 580635\n",
      "\n",
      "./HW1_Dataset/The Souls of Black Folk by W. E. B.  Du Bois (172).txt 421336\n",
      "\n",
      "./HW1_Dataset/The Confessions of St. Augustine by Bishop of Hippo Saint Augustine (157).txt 622405\n",
      "\n",
      "./HW1_Dataset/Candide by Voltaire (180).txt 224924\n",
      "\n",
      "./HW1_Dataset/The Legend of Sleepy Hollow by Washington Irving (399).txt 89237\n",
      "\n",
      "./HW1_Dataset/Alice's Adventures in Wonderland by Lewis Carroll (564).txt 163817\n",
      "\n",
      "./HW1_Dataset/Peter Pan by J. M.  Barrie (274).txt 278194\n",
      "\n",
      "./HW1_Dataset/The Wonderful Wizard of Oz by L. Frank  Baum (150).txt 227654\n",
      "\n",
      "./HW1_Dataset/The Innocents Abroad by Mark Twain (108).txt 1126278\n",
      "\n",
      "./HW1_Dataset/The Turn of the Screw by Henry James (185).txt 248089\n",
      "\n",
      "./HW1_Dataset/The Adventures of Tom Sawyer by Mark Twain (371).txt 412712\n",
      "\n",
      "./HW1_Dataset/The Tragedy of Romeo and Juliet by William Shakespeare (131).txt 174128\n",
      "\n",
      "./HW1_Dataset/A Modest Proposal by Jonathan Swift (233).txt 38966\n",
      "\n",
      "./HW1_Dataset/A Christmas Carol in Prose; Being a Ghost Story of Christmas by Charles Dickens (265).txt 177758\n",
      "\n",
      "./HW1_Dataset/Essays of Michel de Montaigne — Complete by Michel de Montaigne (205).txt 3033575\n",
      "\n",
      "./HW1_Dataset/The Adventures of Sherlock Holmes by Arthur Conan Doyle (447).txt 581864\n",
      "\n",
      "./HW1_Dataset/Robert Greene by Robert Greene (126).txt 760655\n",
      "\n",
      "./HW1_Dataset/Essays by Ralph Waldo Emerson by Ralph Waldo Emerson (239).txt 557197\n",
      "\n",
      "./HW1_Dataset/The Boy Fortune Hunters in the South Seas by L. Frank  Baum (150).txt 266166\n",
      "\n",
      "./HW1_Dataset/Pride and Prejudice by Jane Austen (1003).txt 704192\n",
      "\n",
      "./HW1_Dataset/My Secret Life, Volumes I. to III. by Anonymous (157).txt 1378627\n",
      "\n",
      "./HW1_Dataset/The Mysterious Affair at Styles by Agatha Christie (115).txt 340770\n",
      "\n",
      "./HW1_Dataset/Treasure Island by Robert Louis Stevenson (236).txt 383675\n",
      "\n",
      "./HW1_Dataset/Hedda Gabler by Henrik Ibsen (123).txt 193875\n",
      "\n",
      "./HW1_Dataset/Metamorphosis by Franz Kafka (483).txt 139056\n",
      "\n",
      "./HW1_Dataset/Great Expectations by Charles Dickens (293).txt 1013450\n",
      "\n",
      "./HW1_Dataset/The Life and Adventures of Robinson Crusoe by Daniel Defoe (126).txt 642909\n",
      "\n",
      "./HW1_Dataset/The Iliad by Homer (256).txt 1175588\n",
      "\n",
      "./HW1_Dataset/The Tragical History of Doctor Faustus by Christopher Marlowe (144).txt 143736\n",
      "\n",
      "./HW1_Dataset/Grimms' Fairy Tales by Jacob Grimm and Wilhelm Grimm (429).txt 540241\n",
      "\n",
      "./HW1_Dataset/Beyond Good and Evil by Friedrich Wilhelm Nietzsche (120).txt 402273\n",
      "\n",
      "./HW1_Dataset/Siddhartha by Hermann Hesse (216).txt 236855\n",
      "\n",
      "./HW1_Dataset/The Faery Queen and Her Knights by Alfred John Church (177).txt 447320\n",
      "\n"
     ]
    }
   ],
   "source": [
    "########################################################################\n",
    "######################### Write your code here #########################\n",
    "########################################################################\n",
    "\n",
    "import glob\n",
    "\n",
    "path = './HW1_Dataset/*.txt'\n",
    "\n",
    "for filename in glob.glob(path):\n",
    "    with open(filename, 'r', encoding = 'utf-8') as file:\n",
    "        print(filename + ' ' +str(len(file.read())) +'\\n')"
   ]
  },
  {
   "cell_type": "markdown",
   "metadata": {},
   "source": [
    "**Subpart ii [5 pts].** Copy and paste your code from **subpart i** into the code cell below. Then in the code cell below, modify the code so that it prints out the top 15 longest books (in terms of raw string length, which is what you had already computed). In particular, please write your code so that the printout is of the following format:\n",
    "\n",
    "```\n",
    "1. <number of characters in longest text file> <filename of longest text file>\n",
    "2. <number of characters in 2nd longest text file> <filename of 2nd longest text file>\n",
    "...\n",
    "15. <number of characters in 15th longest text file> <filename of 15th longest text file>\n",
    "```\n",
    "\n",
    "Note: only print out information for the top 15 books in the format above; please do not repeat printing what we asked you to print in **subpart i**."
   ]
  },
  {
   "cell_type": "code",
   "execution_count": 5,
   "metadata": {},
   "outputs": [
    {
     "name": "stdout",
     "output_type": "stream",
     "text": [
      "5465100 ./HW1_Dataset/The Complete Works of William Shakespeare by William Shakespeare (132).txt\n",
      "\n",
      "4351846 ./HW1_Dataset/The King James Version of the Bible (132).txt\n",
      "\n",
      "3254333 ./HW1_Dataset/Les Misérables by Victor Hugo (165) (Unicode Encoding Conflict).txt\n",
      "\n",
      "3227580 ./HW1_Dataset/War and Peace by graf Leo Tolstoy (251).txt\n",
      "\n",
      "3033575 ./HW1_Dataset/Essays of Michel de Montaigne — Complete by Michel de Montaigne (205).txt\n",
      "\n",
      "2643849 ./HW1_Dataset/The Count of Monte Cristo, Illustrated by Alexandre Dumas (160).txt\n",
      "\n",
      "1534140 ./HW1_Dataset/Ulysses by James Joyce (282).txt\n",
      "\n",
      "1378627 ./HW1_Dataset/My Secret Life, Volumes I. to III. by Anonymous (157).txt\n",
      "\n",
      "1238569 ./HW1_Dataset/Moby Dick; Or, The Whale by Herman Melville (413).txt\n",
      "\n",
      "1231784 ./HW1_Dataset/Leviathan by Thomas Hobbes (417).txt\n",
      "\n",
      "1214387 ./HW1_Dataset/The Republic by Plato (246).txt\n",
      "\n",
      "1200021 ./HW1_Dataset/The History of the Peloponnesian War by Thucydides (122).txt\n",
      "\n",
      "1175588 ./HW1_Dataset/The Iliad by Homer (256).txt\n",
      "\n",
      "1167141 ./HW1_Dataset/The Federalist Papers by Alexander Hamilton and John Jay and James Madison (116).txt\n",
      "\n",
      "1154508 ./HW1_Dataset/Prestuplenie i nakazanie. English by Fyodor Dostoyevsky (160).txt\n",
      "\n"
     ]
    }
   ],
   "source": [
    "########################################################################\n",
    "######################### Write your code here #########################\n",
    "########################################################################\n",
    "import glob\n",
    "\n",
    "path = './HW1_Dataset/*.txt'\n",
    "\n",
    "file_lengths = []\n",
    "\n",
    "for filename in glob.glob(path):\n",
    "    with open(filename, 'r', encoding='utf-8') as file:\n",
    "        content_length = len(file.read())\n",
    "        # Append a tuple with length and filename to the list\n",
    "        file_lengths.append((content_length, filename))\n",
    "\n",
    "# Sort the list of tuples by the length in descending order\n",
    "file_lengths.sort(reverse=True, key=lambda x: x[0])\n",
    "\n",
    "# Select the top 15 files based on content length\n",
    "longest_15 = file_lengths[:15]\n",
    "\n",
    "# Print the results\n",
    "for length, name in longest_15:\n",
    "    print(f\"{length} {name}\\n\")"
   ]
  },
  {
   "cell_type": "markdown",
   "metadata": {},
   "source": [
    "**Subpart iii [5 pts].** You should find that some of the books are quite long. Processing very long books will be problematic with spaCy, so we will want to chop up long books into pieces. Note that later on in the course, we shall see that chopping up large amounts of data into small pieces or \"batches\" is in fact quite common in machine learning since for massive datasets, we often cannot store them in their entirety on a CPU or GPU for processing all at once.\n",
    "\n",
    "As a toy example, suppose that a book's text is `'cat dog shark spam eggs'` and we want to split it up into batches where each batch has at most 3 words. Then we could split up the book's text into two batches/pieces: `'cat dog shark'` and `'spam eggs'`.\n",
    "\n",
    "We have provided code for you to do this below."
   ]
  },
  {
   "cell_type": "code",
   "execution_count": 6,
   "metadata": {},
   "outputs": [
    {
     "name": "stdout",
     "output_type": "stream",
     "text": [
      "['cat dog shark', 'spam eggs']\n"
     ]
    }
   ],
   "source": [
    "import numpy as np\n",
    "\n",
    "def split_into_batches(book_text, max_num_words_per_batch):\n",
    "    words_split_on_spaces = book_text.split(' ')\n",
    "    num_book_pieces = int(np.ceil(len(words_split_on_spaces) / max_num_words_per_batch))\n",
    "    batches = []\n",
    "    for piece_idx in range(num_book_pieces):\n",
    "        start_idx = piece_idx * max_num_words_per_batch\n",
    "        end_idx = (piece_idx + 1) * max_num_words_per_batch\n",
    "        if end_idx > len(words_split_on_spaces):\n",
    "            end_idx = len(words_split_on_spaces)\n",
    "        book_piece = ' '.join(words_split_on_spaces[start_idx:end_idx])\n",
    "        batches.append(book_piece)\n",
    "    return batches\n",
    "\n",
    "print(split_into_batches('cat dog shark spam eggs', 3))"
   ]
  },
  {
   "cell_type": "markdown",
   "metadata": {},
   "source": [
    "Now write a loop that goes through all 100 books again. However, for each book, split it up into batches so that each batch has at most 10000 words. In this case, how many batches are there total across all 100 books? Please write code that computes this number of batches. Your code should print out the following (with the correct total number of batches):\n",
    "\n",
    "```\n",
    "Total number of batches: <total number of batches across all 100 books>\n",
    "```"
   ]
  },
  {
   "cell_type": "code",
   "execution_count": 7,
   "metadata": {},
   "outputs": [
    {
     "name": "stdout",
     "output_type": "stream",
     "text": [
      "Total number of batches: 1246\n"
     ]
    }
   ],
   "source": [
    "########################################################################\n",
    "######################### Write your code here #########################\n",
    "########################################################################\n",
    "import glob\n",
    "\n",
    "path = './HW1_Dataset/*.txt'\n",
    "\n",
    "book_batches = []\n",
    "count = 0\n",
    "\n",
    "for filename in glob.glob(path):\n",
    "    with open(filename, 'r', encoding='utf-8') as file:\n",
    "        batches = split_into_batches(file.read(), 10000)\n",
    "        count += len(batches)\n",
    "        book_batches.append(batches)\n",
    "\n",
    "print(f'Total number of batches: {count}')"
   ]
  },
  {
   "cell_type": "markdown",
   "metadata": {},
   "source": [
    "**(b) [10 pts]** Now we will finally use spaCy. Note that for this problem, you don't actually need `spaCy`'s named entity recognition or grammatical parsing. Turning these elements off when you instantiate the `nlp` object can substantially speed up your code. To make sure these are off when instantiating the `nlp` object, call: \n",
    "\n",
    "```python\n",
    "nlp = spacy.load('en_core_web_sm', disable=['ner', 'parser'])\n",
    "```\n",
    "\n",
    "**Throughout this problem, do not remove stopwords.**\n",
    "\n",
    "Build a term frequency (raw counts) table that is for all 100 books. Specifically, building on your solution to part (a)-subpart iii, read in a single book at a time and for each book, do the following:\n",
    "\n",
    "  1. Split it up into batches where each batch has at most 10000 words.\n",
    "  2. For each batch:\n",
    "    1. Process the batch by separating and lemmatizing the words\n",
    "    2. Count the number of times each lemma appears and add these to the frequency table. For simplicity, **do not convert lemmas to lowercase**. (Note that we use raw counts as the \"frequency\"--do not do any division.) Also, as we explain below, we will only count lemmas that are alphabetic.\n",
    "\n",
    "Note that just as we had said in part (a): do **not** print out the complete contents of every book since doing so will result in a Jupyter notebook file that is massive.\n",
    "\n",
    "After looping through all 100 books, you should have the term frequency table for the entire corpus (importantly, the frequency table should not just be for a single book; it should be for all 100 books). Sort the table and print the top 50 most frequent words, along with their frequencies and ranks. Don't worry about ties (for example, if multiple things have the same frequency, it's fine if your solution breaks ties arbitrarily in the sorting).\n",
    "\n",
    "Note: When counting the lemmas, only include lemmas that consist of alphabetic letters (a-z and A-Z). You can do this with what's called a *regular expression*. For example, to check whether the words \"will.i.am\" or \"Tesla\" are alphabetic, you would do the following:\n",
    "\n",
    "```python\n",
    "import re  # regular expression package\n",
    "if re.match('[a-zA-Z]+$', 'will.i.am'):\n",
    "    print('will.i.am consists only of alphabetic letters!')\n",
    "if re.match('[a-zA-Z]+$', 'Tesla'):\n",
    "    print('tesla consists only of alphabetic letters!')\n",
    "```"
   ]
  },
  {
   "cell_type": "code",
   "execution_count": 8,
   "metadata": {},
   "outputs": [
    {
     "name": "stdout",
     "output_type": "stream",
     "text": [
      "1. the: 702465\n",
      "2. be: 446420\n",
      "3. and: 435424\n",
      "4. of: 386347\n",
      "5. to: 324409\n",
      "6. I: 255129\n",
      "7. a: 233423\n",
      "8. in: 204252\n",
      "9. he: 193622\n",
      "10. have: 160548\n",
      "11. that: 159010\n",
      "12. it: 135431\n",
      "13. his: 108536\n",
      "14. you: 102595\n",
      "15. with: 101227\n",
      "16. they: 97561\n",
      "17. not: 95519\n",
      "18. for: 95320\n",
      "19. as: 90702\n",
      "20. she: 78524\n",
      "21. but: 75599\n",
      "22. my: 73983\n",
      "23. do: 68754\n",
      "24. at: 64947\n",
      "25. on: 62833\n",
      "26. by: 61274\n",
      "27. this: 61240\n",
      "28. we: 60873\n",
      "29. which: 58868\n",
      "30. all: 58636\n",
      "31. say: 58348\n",
      "32. from: 50095\n",
      "33. so: 47999\n",
      "34. or: 47810\n",
      "35. her: 42838\n",
      "36. one: 41123\n",
      "37. man: 39585\n",
      "38. their: 38418\n",
      "39. what: 37851\n",
      "40. no: 37808\n",
      "41. there: 37209\n",
      "42. will: 34946\n",
      "43. if: 34898\n",
      "44. go: 33897\n",
      "45. when: 33587\n",
      "46. an: 32517\n",
      "47. come: 32358\n",
      "48. would: 32202\n",
      "49. see: 32024\n",
      "50. who: 30934\n"
     ]
    }
   ],
   "source": [
    "########################################################################\n",
    "######################### Write your code here #########################\n",
    "########################################################################\n",
    "import spacy\n",
    "import glob\n",
    "import re\n",
    "from collections import Counter\n",
    "\n",
    "# Load the spaCy model with disabled named entity recognition and parser to speed up processing\n",
    "nlp = spacy.load('en_core_web_sm', disable=['ner', 'parser'])\n",
    "\n",
    "\n",
    "# Initialize a Counter object to keep the term frequencies\n",
    "term_frequency = Counter()\n",
    "\n",
    "# Regular expression pattern to match only alphabetic strings\n",
    "alpha_pattern = re.compile('^[a-zA-Z]+$')\n",
    "\n",
    "# Path to the text files\n",
    "path = './HW1_Dataset/*.txt'\n",
    "\n",
    "# Process each file\n",
    "for filename in glob.glob(path):\n",
    "    with open(filename, 'r', encoding='utf-8') as file:\n",
    "        book_text = file.read()\n",
    "        \n",
    "        # Split the book text into batches of 10,000 words\n",
    "        for batch in split_into_batches(book_text, 10000):\n",
    "            # Process the batch with spaCy\n",
    "            doc = nlp(batch)\n",
    "            \n",
    "            # Update term frequency counts\n",
    "            for token in doc:\n",
    "                if alpha_pattern.match(token.lemma_):\n",
    "                    term_frequency[token.lemma_] += 1\n",
    "\n",
    "# Sort the term frequency table by frequency in descending order and get the top 50\n",
    "top_50_terms = term_frequency.most_common(50)\n",
    "\n",
    "# Print the top 50 most frequent words, along with their frequencies and ranks\n",
    "for rank, (lemma, frequency) in enumerate(top_50_terms, start=1):\n",
    "    print(f\"{rank}. {lemma}: {frequency}\")\n"
   ]
  },
  {
   "cell_type": "markdown",
   "metadata": {},
   "source": [
    "**(c) [10 pts]** Visualize the frequency table by plotting a **raw scatter plot** (put frequency as the y-axis and rank as the x-axis), and a **log-log plot** (use logarithmic scales on both the x- and y- axes). Note that this should be for all words and not only the top 50. As before, for the ranks, do not worry about ties, i.e., break ties arbitrarily."
   ]
  },
  {
   "cell_type": "code",
   "execution_count": 10,
   "metadata": {},
   "outputs": [
    {
     "data": {
      "image/png": "[encoded data removed]",
      "text/plain": [
       "<Figure size 1000x500 with 1 Axes>"
      ]
     },
     "metadata": {},
     "output_type": "display_data"
    }
   ],
   "source": [
    "# Raw scatter plot\n",
    "########################################################################\n",
    "######################### Write your code here #########################\n",
    "########################################################################\n",
    "\n",
    "import matplotlib.pyplot as plt\n",
    "\n",
    "frequencies = [freq for word, freq in term_frequency.most_common()]\n",
    "\n",
    "# Generate rank data\n",
    "ranks = list(range(1, len(frequencies) + 1))\n",
    "\n",
    "# Scatter plot\n",
    "plt.figure(figsize=(10, 5))\n",
    "plt.scatter(ranks, frequencies, edgecolor='black')\n",
    "plt.xlabel('Rank')\n",
    "plt.ylabel('Frequency')\n",
    "plt.show()"
   ]
  },
  {
   "cell_type": "code",
   "execution_count": 11,
   "metadata": {},
   "outputs": [
    {
     "data": {
      "image/png": "[encoded data removed]",
      "text/plain": [
       "<Figure size 1000x500 with 1 Axes>"
      ]
     },
     "metadata": {},
     "output_type": "display_data"
    }
   ],
   "source": [
    "# Log-log plot\n",
    "########################################################################\n",
    "######################### Write your code here #########################\n",
    "########################################################################\n",
    "plt.figure(figsize=(10, 5))\n",
    "plt.loglog(ranks, frequencies, marker='.', linestyle='None', color='blue')\n",
    "plt.title('Log-Log Plot')\n",
    "plt.xlabel('Rank')\n",
    "plt.ylabel('Frequency')\n",
    "plt.grid(True)\n",
    "plt.show()"
   ]
  },
  {
   "cell_type": "markdown",
   "metadata": {},
   "source": [
    "**(d) [10 pts across subparts]** Let's now try to make sense of the very last plot in part **(c)**. Zipf's law states that term frequency is governed by a power law, i.e. the relationship between term frequency and rank can be approximated by $f(r) = cr^{-1}$, where $f(r)$ is the frequency of the term at rank $r$, $r$ is the rank of a term, and $c$ is a constant that is approximately 0.1*(corpus size) for English.\n",
    "\n",
    "Please answer the following questions:\n",
    "\n",
    "**Subpart i [2 pts].** What do you observe in the log-log plot above? Is this consist with the power law?"
   ]
  },
  {
   "cell_type": "markdown",
   "metadata": {},
   "source": [
    "Your text answer (for this question, your answer is *not* code): *** WRITE YOUR ANSWER HERE ***\n",
    "\n",
    "it resembles a line here as the rank decrease the frequecy decreases\n",
    "it seems to follow the power law approximately by graph"
   ]
  },
  {
   "cell_type": "markdown",
   "metadata": {},
   "source": [
    "**Subpart ii [4 pts].** Think of the corpus as a (large) unigram bag of words. Following the analogy from lecture, imagine drawing a single word from this big bag (note that we are assuming that we've lemmatized the words and also filtered out non-alphabetic words; thus what remains in the bag are actually alphabetic lemmas). What is the probability of drawing one of the 4 most frequent alphabetic lemmas? What is the probability of drawing one of the 50 most frequent alphabetic lemmas? Answer these two questions using code rather than just entering in the final answers as numbers."
   ]
  },
  {
   "cell_type": "code",
   "execution_count": 13,
   "metadata": {},
   "outputs": [
    {
     "name": "stdout",
     "output_type": "stream",
     "text": [
      "Probability of drawing one of the 4 most frequent alphabetic lemmas: 0.16317804093047428\n",
      "Probability of drawing one of the 50 most frequent alphabetic lemmas: 0.4827400611904405\n"
     ]
    }
   ],
   "source": [
    "total_lemmas = sum(term_frequency.values())\n",
    "\n",
    "# Get the frequencies of the top lemmas\n",
    "top_4_frequencies = sum(freq for word, freq in term_frequency.most_common(4))\n",
    "\n",
    "top_50_frequencies = sum(freq for word, freq in term_frequency.most_common(50))\n",
    "# Calculate the probability of drawing one of the top 4 lemmas\n",
    "probability_top_4 = top_4_frequencies / total_lemmas\n",
    "\n",
    "probability_top_50 = top_50_frequencies / total_lemmas\n",
    "print(f'Probability of drawing one of the 4 most frequent alphabetic lemmas: {probability_top_4}')\n",
    "########################################################################\n",
    "######################### Write your code here #########################\n",
    "########################################################################\n",
    "\n",
    "print(f'Probability of drawing one of the 50 most frequent alphabetic lemmas: {probability_top_50}')\n",
    "########################################################################\n",
    "######################### Write your code here #########################\n",
    "########################################################################"
   ]
  },
  {
   "cell_type": "markdown",
   "metadata": {},
   "source": [
    "**Subpart iii [4 pts].** What proportion of the alphabetic lemmas occur only once? What proportion of the alphabetic lemmas occur fewer than 10 times?"
   ]
  },
  {
   "cell_type": "code",
   "execution_count": 14,
   "metadata": {
    "scrolled": true
   },
   "outputs": [
    {
     "name": "stdout",
     "output_type": "stream",
     "text": [
      "Occur only once: 0.004095233450332512\n",
      "Occur fewer than 10 times: 0.007151940141377757\n"
     ]
    }
   ],
   "source": [
    "\n",
    "lemmas_occurring_once = sum(1 for lemma, freq in term_frequency.items() if freq == 1)\n",
    "\n",
    "# Lemmas that occur fewer than 10 times\n",
    "lemmas_occurring_fewer_than_ten = sum(1 for lemma, freq in term_frequency.items() if freq < 10)\n",
    "\n",
    "# Calculate the proportions\n",
    "proportion_1 = lemmas_occurring_once / total_lemmas\n",
    "proportion_less_than_10 = lemmas_occurring_fewer_than_ten / total_lemmas\n",
    "\n",
    "print(f\"Occur only once: {proportion_1}\")\n",
    "\n",
    "print(f\"Occur fewer than 10 times: {proportion_less_than_10}\")\n",
    "########################################################################\n",
    "######################### Write your code here #########################\n",
    "########################################################################"
   ]
  },
  {
   "cell_type": "markdown",
   "metadata": {},
   "source": [
    "### [Problem 2] Entity Recognition and Pointwise Mutual Information (PMI) [50 pts]\n",
    "By using the entity recognition system in `spaCy`, let's identify named entities from newspaper articles. You'll be using Reuters corpus which contains more than ten thousand newspaper articles. To run the code below, you need to download the Reuters dataset. To do so, in a terminal/command line (recall that you can open a terminal from Jupyter's webpage that shows all the files, which by default is [http://localhost:8888/tree](http://localhost:8888/tree)), start up Python and enter:\n",
    "\n",
    "```python\n",
    "import nltk\n",
    "nltk.download('reuters')\n",
    "```\n",
    "\n",
    "Then proceed to the problem subparts below.\n",
    "\n",
    "Note that in this problem you will need named entity recognition but not grammatical parsing. Hence, you will want to instantiate the nlp object by calling:\n",
    "\n",
    "```python\n",
    "nlp = spacy.load('en_core_web_sm', disable=['parser'])\n",
    "```\n"
   ]
  },
  {
   "cell_type": "markdown",
   "metadata": {},
   "source": [
    "**(a) [15 pts]** Draw a bar chart in which one of the axes shows entity labels and the other shows the frequency of the corresponding label. Use the variables `reuters_nlp` and `label_counter` provided in the code below."
   ]
  },
  {
   "cell_type": "code",
   "execution_count": 15,
   "metadata": {
    "scrolled": false
   },
   "outputs": [
    {
     "name": "stderr",
     "output_type": "stream",
     "text": [
      "/Users/bochenwang/anaconda3/lib/python3.11/site-packages/spacy/pipeline/lemmatizer.py:211: UserWarning: [W108] The rule-based lemmatizer did not find POS annotation for one or more tokens. Check that your pipeline includes components that assign token.pos, typically 'tagger'+'attribute_ruler' or 'morphologizer'.\n",
      "  warnings.warn(Warnings.W108)\n"
     ]
    },
    {
     "data": {
      "image/png": "[encoded data removed]",
      "text/plain": [
       "<Figure size 1000x800 with 1 Axes>"
      ]
     },
     "metadata": {},
     "output_type": "display_data"
    }
   ],
   "source": [
    "import matplotlib.pyplot as plt\n",
    "from collections import Counter\n",
    "from nltk.corpus import reuters\n",
    "import re\n",
    "import spacy\n",
    "nlp = spacy.load('en_core_web_sm', disable=['parser', 'tagger'])\n",
    "reuters_fileids = reuters.fileids()  # hint: when first debugging, consider looking at just the first few\n",
    "reuters_nlp = [nlp(re.sub('\\s+',' ', reuters.raw(i)).strip()) for i in reuters_fileids]\n",
    "label_counter = Counter()\n",
    "\n",
    "########################################################################\n",
    "######################### Write your code here #########################\n",
    "########################################################################\n",
    "\n",
    "for doc in reuters_nlp:\n",
    "    # Update the label_counter with the entity labels\n",
    "    label_counter.update(entity.label_ for entity in doc.ents)\n",
    "\n",
    "labels = []\n",
    "frequencies = []\n",
    "for label, frequency in label_counter.items():\n",
    "    labels.append(label)\n",
    "    frequencies.append(frequency)\n",
    "\n",
    "# Plotting\n",
    "plt.figure(figsize=(10, 8))  \n",
    "plt.bar(labels, frequencies)\n",
    "plt.xlabel('Entity Labels')\n",
    "plt.ylabel('Frequency')\n",
    "plt.xticks(rotation=90)  \n",
    "plt.show()"
   ]
  },
  {
   "cell_type": "markdown",
   "metadata": {},
   "source": [
    "**(b) [15 pts]** Now list the top 10 most frequently occurring entities (entity text and the number of occurence) with label `ORG` (organization). Separately list the top 10 most frequently occurring entities with label `GPE` (geopolitical entity such as countries, cities, states) respectively. **In both cases, please convert the entity names to lowercase first before computing the top 10.**\n",
    "\n",
    "Here, when counting the (raw count) frequency, we need to count how many articles have an entity with the desired property. For every article, we add 1 if the article has the entity and 0 otherwise."
   ]
  },
  {
   "cell_type": "code",
   "execution_count": 16,
   "metadata": {},
   "outputs": [
    {
     "name": "stdout",
     "output_type": "stream",
     "text": [
      "Top 10 ORG Entities:\n",
      "cts: 1115\n",
      "reuters: 444\n",
      "the securities and exchange commission: 248\n",
      "ec: 231\n",
      "fed: 230\n",
      "treasury: 228\n",
      "cts net: 179\n",
      "the u.s. agriculture department: 170\n",
      "usda: 154\n",
      "the bank of england: 143\n",
      "\n",
      "Top 10 GPE Entities:\n",
      "u.s.: 1631\n",
      "japan: 579\n",
      "the united states: 383\n",
      "u.k.: 297\n",
      "canada: 295\n",
      "new york: 251\n",
      "west germany: 236\n",
      "washington: 230\n",
      "london: 216\n",
      "brazil: 201\n"
     ]
    }
   ],
   "source": [
    "########################################################################\n",
    "######################### Write your code here #########################\n",
    "########################################################################\n",
    "\n",
    "from collections import defaultdict\n",
    "\n",
    "# use dictionary to count\n",
    "org_entities = defaultdict(int)\n",
    "gpe_entities = defaultdict(int)\n",
    "\n",
    "for doc in reuters_nlp:\n",
    "    # Create sets to store unique entities for this document\n",
    "    orgs_in_doc = set()\n",
    "    gpes_in_doc = set()\n",
    "    \n",
    "    for ent in doc.ents:\n",
    "        if ent.label_ == 'ORG':\n",
    "            orgs_in_doc.add(ent.text.lower())  # Add lowercase entity text\n",
    "        elif ent.label_ == 'GPE':\n",
    "            gpes_in_doc.add(ent.text.lower())  # Add lowercase entity text\n",
    "    \n",
    "    # Update the counts for this article\n",
    "    for org in orgs_in_doc:\n",
    "        org_entities[org] += 1\n",
    "    for gpe in gpes_in_doc:\n",
    "        gpe_entities[gpe] += 1\n",
    "\n",
    "top_10_orgs = sorted(org_entities.items(), key=lambda item: item[1], reverse=True)[:10]\n",
    "top_10_gpes = sorted(gpe_entities.items(), key=lambda item: item[1], reverse=True)[:10]\n",
    "\n",
    "print(\"Top 10 ORG Entities:\")\n",
    "for entity, count in top_10_orgs:\n",
    "    print(f\"{entity}: {count}\")\n",
    "\n",
    "print(\"\\nTop 10 GPE Entities:\")\n",
    "for entity, count in top_10_gpes:\n",
    "    print(f\"{entity}: {count}\")\n"
   ]
  },
  {
   "cell_type": "markdown",
   "metadata": {},
   "source": [
    "**(c) [20 pts]** Give the top 50 `GPE` (countries, cities, states) entities that have the highest Pointwise Mutual Information (PMI) values with regard to the `ORG` (organization) entity **'opec'** (your list of this top 50 should be ranked in decreasing PMI value). Did you find any unexpected results? If so, why do you think it happened? If you found some of the results to be unsurprisingly, how come? **Just like in the previous part, please convert entity names to lowercase in your analysis.**\n",
    "\n",
    "Hint 1: As in lecture, when computing PMI, we will compute probabilities by counting the number of documents where entities occur or co-occur.  For example, $P('opec') = \\frac{number \\ \\ of \\ \\ documents \\ \\ containing \\ \\ 'opec'}{number \\ \\ of \\ \\ documents}$.  \n",
    "\n",
    "Hint 2: To compute this ranking, you do not have to compute the full PMI equation."
   ]
  },
  {
   "cell_type": "code",
   "execution_count": 21,
   "metadata": {},
   "outputs": [
    {
     "name": "stdout",
     "output_type": "stream",
     "text": [
      "Top 50 PMI:\n",
      "brent: 88.42622950819673\n",
      "ula fields: 88.42622950819673\n",
      "emirates: 88.42622950819673\n",
      "the lake charles: 88.42622950819673\n",
      "bethesda: 88.42622950819673\n",
      "franco: 88.42622950819673\n",
      "gabon: 88.42622950819673\n",
      "opec: 88.42622950819673\n",
      "saudi arabia reiterates commitment to: 88.42622950819673\n",
      "yanbu: 88.42622950819673\n",
      "aguarico: 88.42622950819673\n",
      "el salado: 88.42622950819673\n",
      "jubail: 88.42622950819673\n",
      "ras tanurah: 88.42622950819673\n",
      "ju'aymah: 88.42622950819673\n",
      "tripoli: 88.42622950819673\n",
      "doha: 88.42622950819673\n",
      "guayaquil: 88.42622950819673\n",
      "tihamah: 88.42622950819673\n",
      "redoglia: 88.42622950819673\n",
      "carrington: 88.42622950819673\n",
      "materialy: 88.42622950819673\n",
      "vienna: 75.16229508196722\n",
      "riyadh: 70.74098360655738\n",
      "saudi arabia's: 60.79303278688525\n",
      "balao: 58.950819672131146\n",
      "quito: 58.950819672131146\n",
      "qatar: 51.015132408575035\n",
      "dubai: 50.52927400468384\n",
      "caracas: 49.125683060109296\n",
      "nigeria: 44.21311475409836\n",
      "nordic: 44.21311475409836\n",
      "kahan: 44.21311475409836\n",
      "statfjord: 44.21311475409836\n",
      "oseberg: 44.21311475409836\n",
      "dunham: 44.21311475409836\n",
      "la: 44.21311475409836\n",
      "libya: 40.81210592686003\n",
      "ecuador: 38.78343399482312\n",
      "saudi arabia: 37.3048155737705\n",
      "kuwait: 35.11041465766635\n",
      "the united arab emirates: 33.540983606557376\n",
      "venezuela: 31.983955354028605\n",
      "lago agrio: 29.475409836065573\n",
      "petromin: 29.475409836065573\n",
      "alexandria: 29.475409836065573\n",
      "jakarta: 29.475409836065573\n",
      "lagos: 29.475409836065573\n",
      "jamaica: 25.26463700234192\n",
      "iceland: 22.10655737704918\n"
     ]
    }
   ],
   "source": [
    "# \n",
    "\n",
    "########################################################################\n",
    "######################### Write your code here #########################\n",
    "########################################################################\n",
    "\n",
    "total_articles = len(reuters_nlp)\n",
    "opec_counter = 0\n",
    "gpe_counter = defaultdict(int)\n",
    "co_occurrence_counter = defaultdict(int)\n",
    "\n",
    "for doc in reuters_nlp:\n",
    "    #give the condition that has opec and org\n",
    "    has_opec = any(ent.text.lower() == 'opec' and ent.label_ == 'ORG' for ent in doc.ents)\n",
    "    if has_opec:\n",
    "        opec_counter += 1#count opec\n",
    "    unique_gpes = {ent.text.lower() for ent in doc.ents if ent.label_ == 'GPE'}\n",
    "    for gpe in unique_gpes:\n",
    "        gpe_counter[gpe] += 1 #count gpe\n",
    "        if has_opec:\n",
    "            co_occurrence_counter[gpe] += 1 #count co_occurance\n",
    "\n",
    "# Now calculate PMI for each GPE with respect to 'opec'\n",
    "pmi_values = {}\n",
    "for gpe in gpe_counter:\n",
    "    p_opec = opec_counter / total_articles\n",
    "    p_gpe = gpe_counter[gpe] / total_articles\n",
    "    p_co_occurrence = co_occurrence_counter[gpe] / total_articles\n",
    "    # Calculate PMI partially without log\n",
    "    pmi = p_co_occurrence / (p_opec * p_gpe)\n",
    "    pmi_values[gpe] = pmi\n",
    "\n",
    "# Sort GPEs by PMI and take the top 50\n",
    "top_50_gpes_by_pmi = sorted(pmi_values.items(), key=lambda item: item[1], reverse=True)[:50]\n",
    "\n",
    "print(\"Top 50 PMI:\")\n",
    "for gpe, pmi in top_50_gpes_by_pmi:\n",
    "    print(f\"{gpe}: {pmi}\")"
   ]
  },
  {
   "cell_type": "markdown",
   "metadata": {},
   "source": [
    "Your text answer (for this question, your answer is *not* code): *** WRITE YOUR ANSWER HERE ***\n",
    "There are some none gpe in this. I think that the entity name can not be fully recoginzed by this code"
   ]
  },
  {
   "cell_type": "markdown",
   "metadata": {},
   "source": [
    "### [Problem 3] Questionnaire [5 pts]\n",
    "\n",
    "Please provide feedback! To receive the 5 points, be sure to enter your Andrew ID correctly in this Google form: https://forms.gle/8heZamsAnE8S7VTWA"
   ]
  }
 ],
 "metadata": {
  "anaconda-cloud": {},
  "kernelspec": {
   "display_name": "Python 3 (ipykernel)",
   "language": "python",
   "name": "python3"
  },
  "language_info": {
   "codemirror_mode": {
    "name": "ipython",
    "version": 3
   },
   "file_extension": ".py",
   "mimetype": "text/x-python",
   "name": "python",
   "nbconvert_exporter": "python",
   "pygments_lexer": "ipython3",
   "version": "3.11.4"
  }
 },
 "nbformat": 4,
 "nbformat_minor": 2
}
