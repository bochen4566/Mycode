{
 "cells": [
  {
   "cell_type": "markdown",
   "metadata": {},
   "source": [
    "# Unstructured Data Analytics HW2\n",
    "\n",
    "Name:Bochen Wang\n",
    "\n",
    "Andrew ID:bochenw\n",
    "\n",
    "Collaborators (if none, say \"none\"; do *not* leave this blank):I consulted chatgpt\n",
    "\n",
    "Reminder: you should not be sharing code."
   ]
  },
  {
   "cell_type": "markdown",
   "metadata": {},
   "source": [
    "## Question 1: Clustering emails using Gaussian Mixture Models [50 pts]"
   ]
  },
  {
   "cell_type": "markdown",
   "metadata": {},
   "source": [
    "For this problem, we will be analyzing emails taken from the [Enron Email Dataset](https://www.cs.cmu.edu/~enron/). We have already curated the data for you in the `data/enron` directory, with one file per email (so there is no need to redownload the dataset as it is already included in this homework zip archive). The dataset includes a combination of \"spam\" and \"ham\" emails. Spam emails are unsolicited messages intended to sell a product or scam users into providing personal information, while ham emails represent everything that is not spam.\n",
    "\n",
    "The language used in spam emails tends to be considerably different from typical business emails. Most spam filters leverage this difference in word frequencies to detect spam as it arrives and filter it out of email inboxes. We will use Gaussian Mixture Models (GMMs) to cluster the emails and attempt to identify groups of emails which are likely to be spam."
   ]
  },
  {
   "cell_type": "markdown",
   "metadata": {},
   "source": [
    "### Part A: Construct a list of processed documents [10 points]"
   ]
  },
  {
   "cell_type": "markdown",
   "metadata": {},
   "source": [
    "Provided below is a function that returns a document present in a file given a filename. The function performs some preprocessing to (1) remove punctuation, (2),(3) remove whitespace and (4) lowercase all words. Using the `make_word_list` function, construct a list of processed documents."
   ]
  },
  {
   "cell_type": "code",
   "execution_count": 1,
   "metadata": {},
   "outputs": [],
   "source": [
    "import re\n",
    "import string\n",
    "import codecs\n",
    "\n",
    "def make_word_list(path):\n",
    "    \n",
    "    with codecs.open(path, \"r\", encoding='utf-8', errors='ignore') as f:\n",
    "        corpus_text = f.read()\n",
    "\n",
    "    for c in string.punctuation:\n",
    "        corpus_text = corpus_text.replace(c, \"\")  # -- (1)\n",
    "    \n",
    "    text = re.sub(r'\\S*\\d\\S*', '', corpus_text) # -- (2)\n",
    "    text = re.sub(r'[^\\w\\s]', '', text)         # -- (3)\n",
    "    \n",
    "    text = text.lower().split()           # -- (4)         \n",
    "    \n",
    "    li = []\n",
    "    for token in text:\n",
    "        li.append(token)\n",
    "\n",
    "    return \" \".join(li)"
   ]
  },
  {
   "cell_type": "code",
   "execution_count": 2,
   "metadata": {},
   "outputs": [],
   "source": [
    "########################################################################\n",
    "######################### Write your code here #########################\n",
    "########################################################################\n",
    "import glob\n",
    "path = './data/enron/*.txt'\n",
    "word_list = []\n",
    "for filename in glob.glob(path):\n",
    "    word_list.append(make_word_list(filename))\n"
   ]
  },
  {
   "cell_type": "markdown",
   "metadata": {},
   "source": [
    "### Part B: Construct a document matrix [10 points]"
   ]
  },
  {
   "cell_type": "markdown",
   "metadata": {},
   "source": [
    "Next, construct a document matrix `X` as a matrix of [TF-IDF](https://en.wikipedia.org/wiki/Tf%E2%80%93idf) features for each document. TF-IDF features encode information about the word frequency within a document, weighted by the frequency of the same word for corpus as a whole.\n",
    "\n",
    "   - Use the `TfidfVectorizer` from [scikit-learn](http://scikit-learn.org/stable/modules/generated/sklearn.feature_extraction.text.TfidfVectorizer.html) to create the document matrix `X`.\n",
    "   - Set `min_df=50`; this drops words that don't occur in at least 50 documents.\n",
    "   - Set `stop_words=\"english\"` and `max_df=0.8` to filter out stop-words.\n",
    "   - Print the number of unique words in the vocabulary Hint: Look for the `vocabulary_` attribute in the `TfidfVectorizer` object after fitting the vectorizer to the data set. The vocabulary will also be needed in part (d)."
   ]
  },
  {
   "cell_type": "code",
   "execution_count": 3,
   "metadata": {},
   "outputs": [
    {
     "data": {
      "text/plain": [
       "1680"
      ]
     },
     "execution_count": 3,
     "metadata": {},
     "output_type": "execute_result"
    }
   ],
   "source": [
    "########################################################################\n",
    "######################### Write your code here #########################\n",
    "########################################################################\n",
    "# vocab_size = 1000\n",
    "# from sklearn.feature_extraction.text import CountVectorizer\n",
    "\n",
    "# # CountVectorizer does tokenization and can remove terms that occur too frequently, not frequently enough, or that are stop words\n",
    "\n",
    "# # document frequency (df) means number of documents a word appears in\n",
    "# tf_vectorizer = CountVectorizer(max_df=0.95,\n",
    "#                                 min_df=2,\n",
    "#                                 stop_words='english',\n",
    "#                                 max_features=vocab_size)\n",
    "# tf = tf_vectorizer.fit_transform(data)\n",
    "\n",
    "from sklearn.feature_extraction.text import TfidfVectorizer\n",
    "\n",
    "# Initialize TfidfVectorizer with the specified parameters\n",
    "vectorizer = TfidfVectorizer(min_df=50, \n",
    "                             max_df=0.8, \n",
    "                             stop_words='english')\n",
    "\n",
    "# Fit the vectorizer to the documents and transform the documents into a document-term matrix\n",
    "X = vectorizer.fit_transform(word_list)\n",
    "\n",
    "# Print the number of unique words in the vocabulary\n",
    "vocabulary_size = len(vectorizer.vocabulary_)\n",
    "vocabulary_size\n"
   ]
  },
  {
   "cell_type": "markdown",
   "metadata": {},
   "source": [
    "### Part C: Perform Clustering [10 points]"
   ]
  },
  {
   "cell_type": "markdown",
   "metadata": {},
   "source": [
    "Perform clustering on the document matrix `X` using GMMs. \n",
    "- Use the `GaussianMixture` module from [scikit-learn](http://scikit-learn.org/stable/modules/generated/sklearn.mixture.GaussianMixture.html) to cluster the documents.\n",
    "- Set the number of clusters (mixture components) to 3.\n",
    "- Print the number of documents assigned to each cluster."
   ]
  },
  {
   "cell_type": "code",
   "execution_count": 4,
   "metadata": {},
   "outputs": [
    {
     "name": "stdout",
     "output_type": "stream",
     "text": [
      "Requirement already satisfied: threadpoolctl in /Users/bochenwang/anaconda3/lib/python3.11/site-packages (3.2.0)\n",
      "Note: you may need to restart the kernel to use updated packages.\n"
     ]
    }
   ],
   "source": [
    "pip install --upgrade threadpoolctl "
   ]
  },
  {
   "cell_type": "code",
   "execution_count": 5,
   "metadata": {},
   "outputs": [
    {
     "data": {
      "text/plain": [
       "[4478, 365, 328]"
      ]
     },
     "execution_count": 5,
     "metadata": {},
     "output_type": "execute_result"
    }
   ],
   "source": [
    "########################################################################\n",
    "######################### Write your code here #########################\n",
    "########################################################################\n",
    "\n",
    "from sklearn.mixture import GaussianMixture\n",
    "\n",
    "gmm = GaussianMixture(n_components=3, n_init=1, random_state=0)\n",
    "X_array = X.toarray()\n",
    "gmm_cluster_assignments = gmm.fit_predict(X_array)\n",
    "cluster_counts = [list(gmm_cluster_assignments).count(i) for i in range(3)]\n",
    "cluster_counts"
   ]
  },
  {
   "cell_type": "markdown",
   "metadata": {},
   "source": [
    "### Part D: Characterize the clusters [10 points]"
   ]
  },
  {
   "cell_type": "markdown",
   "metadata": {},
   "source": [
    "Now, we will attempt to characterize the clusters based on the frequency of spam-relevant words. \n",
    "- Select 3 \"spammy\" words from the vocabulary that you expect to occur frequently in spam emails and less frequently in normal business emails (e.g., 'click', 'www', 'offer'). Construct a list, `spam_indices`, storing the indices of the spammy words you selected in the vocabulary generated by `TfidfVectorizer`.\n",
    "- Select 3 \"hammy\" words from the vocabulary you think will occur frequently in business emails and infrequently in spam emails (e.g., 'meeting', 'attached', 'review'). Construct a list, `ham_indices`, storing the indices of the hammy words you selected in the vocabulary generated by `TfidfVectorizer`.\n",
    "- Use the function provided below, `plot_spam_words_by_cluster`, to plot the average TF-IDF features for your selected spammy words and hammy words for each cluster. The function takes the following parameters:\n",
    "    - `X` is a matrix of TF-IDF features (rows index documents, columns index terms).\n",
    "    - `predicted` is predicted cluster assignments returned by `GaussianMixture.predict()`\n",
    "    - `n_clusters` is the number of clusters. This should match the number of clusters from your GMM.\n",
    "    - `spam_indices` is a list of indices of spammy words in the vocabulary.\n",
    "    - `ham_indices` is a list of indices of hammy (typical business) words in the vocabulary."
   ]
  },
  {
   "cell_type": "code",
   "execution_count": 6,
   "metadata": {},
   "outputs": [],
   "source": [
    "def plot_spam_words_by_cluster(X, predicted, n_clusters, spam_indices, ham_indices):\n",
    "    import numpy as np\n",
    "    import matplotlib.pyplot as plt\n",
    "    \n",
    "    # Calculate mean TF-IDF features for each cluster\n",
    "    mean_tfidf_spam = []\n",
    "    mean_tfidf_ham = []\n",
    "    for spam in spam_indices:\n",
    "        mean_tfidf_spam.append([])\n",
    "    for ham in ham_indices:\n",
    "        mean_tfidf_ham.append([])\n",
    "    \n",
    "    for i in range(n_clusters):\n",
    "        for j, spam_idx in enumerate(spam_indices):\n",
    "            mean_tfidf_spam[j].append(X[predicted==i, spam_idx].mean())\n",
    "        for j, ham_idx in enumerate(ham_indices):\n",
    "            mean_tfidf_ham[j].append(X[predicted==i, ham_idx].mean())\n",
    "    \n",
    "    # Generate plot\n",
    "    fig, ax = plt.subplots()\n",
    "\n",
    "    ind = np.arange(n_clusters)    # the x locations for the groups\n",
    "    width = 0.10         # the width of the bars\n",
    "\n",
    "    # Plot spam bars\n",
    "    for i, val in enumerate(mean_tfidf_spam):\n",
    "        spam_bar = ax.bar(ind - (len(mean_tfidf_spam)-i-1)*width, val, width, color='r', bottom=0)\n",
    "\n",
    "    # Plot ham bars\n",
    "    for i, val in enumerate(mean_tfidf_ham):\n",
    "        ham_bar = ax.bar(ind + (len(mean_tfidf_ham)-i)*width, val, width,\n",
    "                color='y', bottom=0)\n",
    "\n",
    "    ax.set_title('Mean TF-IDF Features by Cluster for Spam-Relevant Words')\n",
    "    ax.set_xticks(ind + width / 2)\n",
    "    xticklabels = []\n",
    "    for i in range(n_clusters):\n",
    "        xticklabels.append('Cluster ' + str(i) + '\\n(n=' + str((predicted==i).sum()) + ')')\n",
    "    ax.set_xticklabels(xticklabels)\n",
    "\n",
    "    ax.legend((spam_bar[0], ham_bar[0]), ('Spammy words', 'Hammy words'))\n",
    "    ax.autoscale_view()\n",
    "    ax.set_ylabel('Mean TF-IDF')\n",
    "    plt.show()"
   ]
  },
  {
   "cell_type": "code",
   "execution_count": 7,
   "metadata": {},
   "outputs": [
    {
     "name": "stdout",
     "output_type": "stream",
     "text": [
      "young: 1679\n",
      "york: 1678\n",
      "yesterday: 1677\n",
      "yes: 1676\n",
      "years: 1675\n",
      "year: 1674\n",
      "yahoo: 1673\n",
      "xp: 1672\n",
      "xara: 1671\n",
      "www: 1670\n",
      "wrong: 1669\n",
      "writing: 1668\n",
      "write: 1667\n",
      "worth: 1666\n",
      "worldwide: 1665\n",
      "world: 1664\n",
      "works: 1663\n",
      "working: 1662\n",
      "worked: 1661\n",
      "work: 1660\n",
      "words: 1659\n",
      "word: 1658\n",
      "won: 1657\n",
      "women: 1656\n",
      "woman: 1655\n",
      "wish: 1654\n",
      "winning: 1653\n",
      "windows: 1652\n",
      "win: 1651\n",
      "wilson: 1650\n",
      "willing: 1649\n",
      "wili: 1648\n",
      "wiil: 1647\n",
      "wiii: 1646\n",
      "wife: 1645\n",
      "wide: 1644\n",
      "wi: 1643\n",
      "wholesale: 1642\n",
      "white: 1641\n",
      "west: 1640\n",
      "went: 1639\n",
      "welcome: 1638\n",
      "weight: 1637\n",
      "weeks: 1636\n",
      "weekly: 1635\n",
      "week: 1634\n",
      "wednesday: 1633\n",
      "websites: 1632\n",
      "website: 1631\n",
      "web: 1630\n"
     ]
    }
   ],
   "source": [
    "########################################################################\n",
    "######################### Write your code here #########################\n",
    "########################################################################\n",
    "from collections import Counter\n",
    "vocabulary = vectorizer.vocabulary_\n",
    "for k, v in Counter(vocabulary).most_common(50):\n",
    "    print('%s: %i' % (k, v))"
   ]
  },
  {
   "cell_type": "code",
   "execution_count": 8,
   "metadata": {},
   "outputs": [
    {
     "data": {
      "text/plain": [
       "1283"
      ]
     },
     "execution_count": 8,
     "metadata": {},
     "output_type": "execute_result"
    }
   ],
   "source": [
    "vectorizer.vocabulary_['review']"
   ]
  },
  {
   "cell_type": "code",
   "execution_count": 9,
   "metadata": {},
   "outputs": [],
   "source": [
    "spammy_words = ['www', 'websites', 'worth'] \n",
    "hammy_words = ['review', 'meeting', 'attached']  \n",
    "\n",
    "spam_indices = [vocabulary[word] for word in spammy_words]\n",
    "ham_indices = [vocabulary[word] for word in hammy_words]\n"
   ]
  },
  {
   "cell_type": "code",
   "execution_count": 10,
   "metadata": {},
   "outputs": [
    {
     "data": {
      "image/png": "[encoded data removed]",
      "text/plain": [
       "<Figure size 640x480 with 1 Axes>"
      ]
     },
     "metadata": {},
     "output_type": "display_data"
    }
   ],
   "source": [
    "plot_spam_words_by_cluster(X,gmm_cluster_assignments,3, spam_indices, ham_indices )"
   ]
  },
  {
   "cell_type": "markdown",
   "metadata": {},
   "source": [
    "### Part E: Interpret results [10 points]"
   ]
  },
  {
   "cell_type": "markdown",
   "metadata": {},
   "source": [
    "From the plot generated in part (d), do any of the clusters correspond to spam emails, based on the frequency of spammy and hammy words? Do any of the clusters appear to correspond to typical business emails (ham)? \n",
    "\n",
    "Re-run your analysis with a different choice for the number of clusters in your GMM (e.g., `n_clusters=5` or `n_clusters=2`). How does changing the number of clusters affect your results? Does one choice of `n_clusters` appear better than another for locating clusters of spam emails?"
   ]
  },
  {
   "cell_type": "markdown",
   "metadata": {},
   "source": [
    "*** WRITE YOUR ANSWER HERE IN TEXT ***\n",
    "\n",
    "Yes, the cluster 0 respond to the spammy words which has high volumn of the spammy words. \n",
    "\n",
    "Cluster 1 reulsts in the hammpy words. Some hammy words appears in the spammy clusters. This can be a result of the word chosen is fairly used on daily English conversations."
   ]
  },
  {
   "cell_type": "code",
   "execution_count": 12,
   "metadata": {},
   "outputs": [],
   "source": [
    "########################################################################\n",
    "######################### Write your code here #########################\n",
    "########################################################################\n",
    "from sklearn.mixture import GaussianMixture\n",
    "\n",
    "gmm2 = GaussianMixture(n_components=5, n_init=1, random_state=0)\n",
    "gmm_cluster_assignments2 = gmm2.fit_predict(X_array)\n",
    "# cluster_counts = [list(gmm_cluster_assignments).count(i) for i in range(3)]\n",
    "# cluster_counts\n"
   ]
  },
  {
   "cell_type": "code",
   "execution_count": 13,
   "metadata": {},
   "outputs": [
    {
     "data": {
      "image/png": "[encoded data removed]",
      "text/plain": [
       "<Figure size 640x480 with 1 Axes>"
      ]
     },
     "metadata": {},
     "output_type": "display_data"
    }
   ],
   "source": [
    "spammy_words2 = ['www', 'websites', 'worth', 'win', 'web'] \n",
    "hammy_words2 = ['review', 'meeting', 'attached', 'year', 'yes']  \n",
    "\n",
    "spam_indices2 = [vocabulary[word] for word in spammy_words2]\n",
    "ham_indices2 = [vocabulary[word] for word in hammy_words2]\n",
    "\n",
    "plot_spam_words_by_cluster(X,gmm_cluster_assignments2,5, spam_indices2, ham_indices2 )"
   ]
  },
  {
   "cell_type": "markdown",
   "metadata": {},
   "source": [
    "The number of clusters change can actually imporve the porfomance on tellling the difference for the different clusters. They have a clear disctinction in the distribution. n_clusters did influenced the better locating the spammy words."
   ]
  },
  {
   "cell_type": "markdown",
   "metadata": {},
   "source": [
    "## Question 2: Latent \"Purposes\" in Mobile Apps [45 points]\n",
    "\n",
    "\n",
    "Think of Android applications as \"documents\", where \"words\" are the \"permissions\" that each app requests. Each app has a set of latent \"purposes\" (topics); a \"purpose\" may be a specific task (such as taking photographs and uploading them to the internet), and an application may have a mixture of purposes of varying strength.\n",
    "\n",
    "Can we uncover these purposes from a dataset of Android applications and the permissions they request?"
   ]
  },
  {
   "cell_type": "code",
   "execution_count": 14,
   "metadata": {},
   "outputs": [],
   "source": [
    "import numpy as np\n",
    "import matplotlib.pyplot as plt\n",
    "import pandas as pd\n",
    "%matplotlib inline"
   ]
  },
  {
   "cell_type": "markdown",
   "metadata": {},
   "source": [
    "### Part A: Load the data [0 points]"
   ]
  },
  {
   "cell_type": "markdown",
   "metadata": {},
   "source": [
    "The [dataset](http://www.mariofrank.net/andrApps/) contains ~180,000 applications from the Android app store, including each app's name, description and permissions requested. For more about Android app permissions, see [this report](http://www.pewinternet.org/2015/11/10/an-analysis-of-android-app-permissions/).\n",
    "\n",
    "   * Download the data and unzip it into the same folder as this notebook.\n",
    "   * Rename the CSV file to \"android.csv\".\n",
    "   * Run the cells below to load the data into the notebook.\n",
    "\n",
    "This may take up ~2GB of RAM."
   ]
  },
  {
   "cell_type": "code",
   "execution_count": 15,
   "metadata": {},
   "outputs": [],
   "source": [
    "df = pd.read_csv(\"android.csv\", sep=\",\",  thousands=\",\")"
   ]
  },
  {
   "cell_type": "code",
   "execution_count": 16,
   "metadata": {},
   "outputs": [],
   "source": [
    "df[\"Number of ratings\"] = df[\"Number of ratings\"].astype(int) # fix data type\n",
    "df = df.drop_duplicates(subset=[\"App\"]).reset_index(drop=True)"
   ]
  },
  {
   "cell_type": "code",
   "execution_count": 17,
   "metadata": {},
   "outputs": [
    {
     "data": {
      "text/html": [
       "<div>\n",
       "<style scoped>\n",
       "    .dataframe tbody tr th:only-of-type {\n",
       "        vertical-align: middle;\n",
       "    }\n",
       "\n",
       "    .dataframe tbody tr th {\n",
       "        vertical-align: top;\n",
       "    }\n",
       "\n",
       "    .dataframe thead th {\n",
       "        text-align: right;\n",
       "    }\n",
       "</style>\n",
       "<table border=\"1\" class=\"dataframe\">\n",
       "  <thead>\n",
       "    <tr style=\"text-align: right;\">\n",
       "      <th></th>\n",
       "      <th>App</th>\n",
       "      <th>Package</th>\n",
       "      <th>Category</th>\n",
       "      <th>Description</th>\n",
       "      <th>Rating</th>\n",
       "      <th>Number of ratings</th>\n",
       "      <th>Price</th>\n",
       "      <th>Related apps</th>\n",
       "      <th>Dangerous permissions count</th>\n",
       "      <th>Safe permissions count</th>\n",
       "      <th>...</th>\n",
       "      <th>Your personal information : read Browser's history and bookmarks (D)</th>\n",
       "      <th>Your personal information : read calendar events (D)</th>\n",
       "      <th>Your personal information : read contact data (D)</th>\n",
       "      <th>Your personal information : read sensitive log data (D)</th>\n",
       "      <th>Your personal information : read user defined dictionary (D)</th>\n",
       "      <th>Your personal information : retrieve system internal state (S)</th>\n",
       "      <th>Your personal information : set alarm in alarm clock (S)</th>\n",
       "      <th>Your personal information : write Browser's history and bookmarks (D)</th>\n",
       "      <th>Your personal information : write contact data (D)</th>\n",
       "      <th>Your personal information : write to user defined dictionary (S)</th>\n",
       "    </tr>\n",
       "  </thead>\n",
       "  <tbody>\n",
       "    <tr>\n",
       "      <th>0</th>\n",
       "      <td>Google Maps</td>\n",
       "      <td>com.google.android.apps.maps</td>\n",
       "      <td>Travel &amp; Local</td>\n",
       "      <td>Download the latest release of Google Maps, an...</td>\n",
       "      <td>4.4</td>\n",
       "      <td>1438259</td>\n",
       "      <td>$0.00</td>\n",
       "      <td>{com.jsdfproductions.ctatrackerpro, com.alk.co...</td>\n",
       "      <td>17.0</td>\n",
       "      <td>8</td>\n",
       "      <td>...</td>\n",
       "      <td>0</td>\n",
       "      <td>0</td>\n",
       "      <td>1</td>\n",
       "      <td>0</td>\n",
       "      <td>0</td>\n",
       "      <td>0</td>\n",
       "      <td>0</td>\n",
       "      <td>0</td>\n",
       "      <td>1</td>\n",
       "      <td>0</td>\n",
       "    </tr>\n",
       "    <tr>\n",
       "      <th>1</th>\n",
       "      <td>Snowfall Live Wallpaper</td>\n",
       "      <td>fishnoodle.snowfall_free</td>\n",
       "      <td>Personalization</td>\n",
       "      <td>Snowfall Live Wallpaper: Wintertime on your ho...</td>\n",
       "      <td>4.3</td>\n",
       "      <td>18147</td>\n",
       "      <td>$0.00</td>\n",
       "      <td>{colfore.wallpaper.snowfree, com.tabsoft.wallp...</td>\n",
       "      <td>0.0</td>\n",
       "      <td>0</td>\n",
       "      <td>...</td>\n",
       "      <td>0</td>\n",
       "      <td>0</td>\n",
       "      <td>0</td>\n",
       "      <td>0</td>\n",
       "      <td>0</td>\n",
       "      <td>0</td>\n",
       "      <td>0</td>\n",
       "      <td>0</td>\n",
       "      <td>0</td>\n",
       "      <td>0</td>\n",
       "    </tr>\n",
       "    <tr>\n",
       "      <th>2</th>\n",
       "      <td>Aquarium Live Wallpaper</td>\n",
       "      <td>fishnoodle.aquarium_free</td>\n",
       "      <td>Personalization</td>\n",
       "      <td>A beautiful tropical fish tank live wallpaper!...</td>\n",
       "      <td>4.1</td>\n",
       "      <td>62145</td>\n",
       "      <td>$0.00</td>\n",
       "      <td>{com.convisual.lwp.fishometerlite, com.accessl...</td>\n",
       "      <td>0.0</td>\n",
       "      <td>0</td>\n",
       "      <td>...</td>\n",
       "      <td>0</td>\n",
       "      <td>0</td>\n",
       "      <td>0</td>\n",
       "      <td>0</td>\n",
       "      <td>0</td>\n",
       "      <td>0</td>\n",
       "      <td>0</td>\n",
       "      <td>0</td>\n",
       "      <td>0</td>\n",
       "      <td>0</td>\n",
       "    </tr>\n",
       "  </tbody>\n",
       "</table>\n",
       "<p>3 rows × 183 columns</p>\n",
       "</div>"
      ],
      "text/plain": [
       "                       App                       Package         Category  \\\n",
       "0              Google Maps  com.google.android.apps.maps   Travel & Local   \n",
       "1  Snowfall Live Wallpaper      fishnoodle.snowfall_free  Personalization   \n",
       "2  Aquarium Live Wallpaper      fishnoodle.aquarium_free  Personalization   \n",
       "\n",
       "                                         Description  Rating  \\\n",
       "0  Download the latest release of Google Maps, an...     4.4   \n",
       "1  Snowfall Live Wallpaper: Wintertime on your ho...     4.3   \n",
       "2  A beautiful tropical fish tank live wallpaper!...     4.1   \n",
       "\n",
       "   Number of ratings  Price  \\\n",
       "0            1438259  $0.00   \n",
       "1              18147  $0.00   \n",
       "2              62145  $0.00   \n",
       "\n",
       "                                        Related apps  \\\n",
       "0  {com.jsdfproductions.ctatrackerpro, com.alk.co...   \n",
       "1  {colfore.wallpaper.snowfree, com.tabsoft.wallp...   \n",
       "2  {com.convisual.lwp.fishometerlite, com.accessl...   \n",
       "\n",
       "   Dangerous permissions count  Safe permissions count  ...  \\\n",
       "0                         17.0                       8  ...   \n",
       "1                          0.0                       0  ...   \n",
       "2                          0.0                       0  ...   \n",
       "\n",
       "   Your personal information : read Browser's history and bookmarks (D)  \\\n",
       "0                                                  0                      \n",
       "1                                                  0                      \n",
       "2                                                  0                      \n",
       "\n",
       "   Your personal information : read calendar events (D)  \\\n",
       "0                                                  0      \n",
       "1                                                  0      \n",
       "2                                                  0      \n",
       "\n",
       "   Your personal information : read contact data (D)  \\\n",
       "0                                                  1   \n",
       "1                                                  0   \n",
       "2                                                  0   \n",
       "\n",
       "   Your personal information : read sensitive log data (D)  \\\n",
       "0                                                  0         \n",
       "1                                                  0         \n",
       "2                                                  0         \n",
       "\n",
       "   Your personal information : read user defined dictionary (D)  \\\n",
       "0                                                  0              \n",
       "1                                                  0              \n",
       "2                                                  0              \n",
       "\n",
       "   Your personal information : retrieve system internal state (S)  \\\n",
       "0                                                  0                \n",
       "1                                                  0                \n",
       "2                                                  0                \n",
       "\n",
       "   Your personal information : set alarm in alarm clock (S)  \\\n",
       "0                                                  0          \n",
       "1                                                  0          \n",
       "2                                                  0          \n",
       "\n",
       "   Your personal information : write Browser's history and bookmarks (D)  \\\n",
       "0                                                  0                       \n",
       "1                                                  0                       \n",
       "2                                                  0                       \n",
       "\n",
       "   Your personal information : write contact data (D)  \\\n",
       "0                                                  1    \n",
       "1                                                  0    \n",
       "2                                                  0    \n",
       "\n",
       "   Your personal information : write to user defined dictionary (S)  \n",
       "0                                                  0                 \n",
       "1                                                  0                 \n",
       "2                                                  0                 \n",
       "\n",
       "[3 rows x 183 columns]"
      ]
     },
     "execution_count": 17,
     "metadata": {},
     "output_type": "execute_result"
    }
   ],
   "source": [
    "df.head(n=3)"
   ]
  },
  {
   "cell_type": "markdown",
   "metadata": {},
   "source": [
    "### Part B: Convert each app into a \"document\" [0 points]\n",
    "\n",
    "The code below does the following:\n",
    "\n",
    "   * Filter out all the columns except the permission columns.\n",
    "   * Convert this dataframe into a numpy matrix.\n",
    "\n",
    "There are thus 180295 apps (documents) and 173 permissions (words).\n",
    "\n",
    "   - `X` is the \"document\" or \"word-frequency\" matrix.\n",
    "   - `permission_columns` contains the words ordered by their column index in X.\n",
    "   - `app_names` contains the application names ordered by their row index in X.\n",
    "   - `app_ratings` contains the *number* of application ratings (not the ratings themselves)."
   ]
  },
  {
   "cell_type": "code",
   "execution_count": 18,
   "metadata": {},
   "outputs": [],
   "source": [
    "permission_columns = list(df.columns[10:])\n",
    "app_names = list(df[\"App\"])\n",
    "app_ratings = np.array(df[\"Number of ratings\"])\n",
    "df_perms = df[permission_columns]\n",
    "X = df_perms.values\n",
    "del df # uncomment to free up RAM\n",
    "del df_perms # uncomment to free up RAM"
   ]
  },
  {
   "cell_type": "code",
   "execution_count": 109,
   "metadata": {},
   "outputs": [
    {
     "name": "stdout",
     "output_type": "stream",
     "text": [
      "95\n"
     ]
    }
   ],
   "source": [
    "jj = 0\n",
    "for i in range(len(app_ratings)):\n",
    "    if app_ratings[i] > 100000:\n",
    "        jj +=1\n",
    "\n",
    "print(jj)"
   ]
  },
  {
   "cell_type": "markdown",
   "metadata": {},
   "source": [
    "### Part C: Downweight \"stopwords\" [2.5 points]\n",
    "\n",
    "There are some permissions requested by almost all applications (like \"INTERNET\"), they are similar to stop-words (\"the\", \"and\", etc.) in natural language. We can downweight them by TF-IDF normalization.\n",
    "\n",
    "   * Use the `TfidfTransformer` class in `scikit-learn` to transform X."
   ]
  },
  {
   "cell_type": "code",
   "execution_count": 19,
   "metadata": {},
   "outputs": [],
   "source": [
    "########################################################################\n",
    "######################### Write your code here #########################\n",
    "########################################################################\n",
    "from sklearn.feature_extraction.text import TfidfTransformer\n",
    "\n",
    "tfidf_transformer = TfidfTransformer()\n",
    "\n",
    "X_tfidf = tfidf_transformer.fit_transform(X)"
   ]
  },
  {
   "cell_type": "code",
   "execution_count": 59,
   "metadata": {},
   "outputs": [
    {
     "data": {
      "text/plain": [
       "array([[0.        , 0.        , 0.        , ..., 0.        , 0.18350514,\n",
       "        0.        ],\n",
       "       [0.        , 0.        , 0.        , ..., 0.        , 0.        ,\n",
       "        0.        ],\n",
       "       [0.        , 0.        , 0.        , ..., 0.        , 0.        ,\n",
       "        0.        ],\n",
       "       ...,\n",
       "       [0.        , 0.        , 0.        , ..., 0.        , 0.        ,\n",
       "        0.        ],\n",
       "       [0.        , 0.        , 0.        , ..., 0.        , 0.        ,\n",
       "        0.        ],\n",
       "       [0.        , 0.        , 0.        , ..., 0.        , 0.        ,\n",
       "        0.        ]])"
      ]
     },
     "execution_count": 59,
     "metadata": {},
     "output_type": "execute_result"
    }
   ],
   "source": [
    "X_tfidf.toarray()"
   ]
  },
  {
   "cell_type": "markdown",
   "metadata": {},
   "source": [
    "### Part D: Discover 10 \"topics\" [2.5 points]\n",
    "\n",
    "   * Use the `LatentDirichletAllocation` class in `scikit-learn` to fit 10 topics to the data.\n",
    "   * Use 10 max iterations, set `n_jobs=-1` to use all cores on your machine (if it helps).\n",
    "   * Feel free to understand and play around with other parameters.\n",
    "   * This may take around 3 minutes to run."
   ]
  },
  {
   "cell_type": "code",
   "execution_count": 65,
   "metadata": {},
   "outputs": [
    {
     "name": "stdout",
     "output_type": "stream",
     "text": [
      "CPU times: user 2 s, sys: 139 ms, total: 2.14 s\n",
      "Wall time: 10.7 s\n"
     ]
    },
    {
     "data": {
      "text/html": [
       "<style>#sk-container-id-3 {color: black;}#sk-container-id-3 pre{padding: 0;}#sk-container-id-3 div.sk-toggleable {background-color: white;}#sk-container-id-3 label.sk-toggleable__label {cursor: pointer;display: block;width: 100%;margin-bottom: 0;padding: 0.3em;box-sizing: border-box;text-align: center;}#sk-container-id-3 label.sk-toggleable__label-arrow:before {content: \"▸\";float: left;margin-right: 0.25em;color: #696969;}#sk-container-id-3 label.sk-toggleable__label-arrow:hover:before {color: black;}#sk-container-id-3 div.sk-estimator:hover label.sk-toggleable__label-arrow:before {color: black;}#sk-container-id-3 div.sk-toggleable__content {max-height: 0;max-width: 0;overflow: hidden;text-align: left;background-color: #f0f8ff;}#sk-container-id-3 div.sk-toggleable__content pre {margin: 0.2em;color: black;border-radius: 0.25em;background-color: #f0f8ff;}#sk-container-id-3 input.sk-toggleable__control:checked~div.sk-toggleable__content {max-height: 200px;max-width: 100%;overflow: auto;}#sk-container-id-3 input.sk-toggleable__control:checked~label.sk-toggleable__label-arrow:before {content: \"▾\";}#sk-container-id-3 div.sk-estimator input.sk-toggleable__control:checked~label.sk-toggleable__label {background-color: #d4ebff;}#sk-container-id-3 div.sk-label input.sk-toggleable__control:checked~label.sk-toggleable__label {background-color: #d4ebff;}#sk-container-id-3 input.sk-hidden--visually {border: 0;clip: rect(1px 1px 1px 1px);clip: rect(1px, 1px, 1px, 1px);height: 1px;margin: -1px;overflow: hidden;padding: 0;position: absolute;width: 1px;}#sk-container-id-3 div.sk-estimator {font-family: monospace;background-color: #f0f8ff;border: 1px dotted black;border-radius: 0.25em;box-sizing: border-box;margin-bottom: 0.5em;}#sk-container-id-3 div.sk-estimator:hover {background-color: #d4ebff;}#sk-container-id-3 div.sk-parallel-item::after {content: \"\";width: 100%;border-bottom: 1px solid gray;flex-grow: 1;}#sk-container-id-3 div.sk-label:hover label.sk-toggleable__label {background-color: #d4ebff;}#sk-container-id-3 div.sk-serial::before {content: \"\";position: absolute;border-left: 1px solid gray;box-sizing: border-box;top: 0;bottom: 0;left: 50%;z-index: 0;}#sk-container-id-3 div.sk-serial {display: flex;flex-direction: column;align-items: center;background-color: white;padding-right: 0.2em;padding-left: 0.2em;position: relative;}#sk-container-id-3 div.sk-item {position: relative;z-index: 1;}#sk-container-id-3 div.sk-parallel {display: flex;align-items: stretch;justify-content: center;background-color: white;position: relative;}#sk-container-id-3 div.sk-item::before, #sk-container-id-3 div.sk-parallel-item::before {content: \"\";position: absolute;border-left: 1px solid gray;box-sizing: border-box;top: 0;bottom: 0;left: 50%;z-index: -1;}#sk-container-id-3 div.sk-parallel-item {display: flex;flex-direction: column;z-index: 1;position: relative;background-color: white;}#sk-container-id-3 div.sk-parallel-item:first-child::after {align-self: flex-end;width: 50%;}#sk-container-id-3 div.sk-parallel-item:last-child::after {align-self: flex-start;width: 50%;}#sk-container-id-3 div.sk-parallel-item:only-child::after {width: 0;}#sk-container-id-3 div.sk-dashed-wrapped {border: 1px dashed gray;margin: 0 0.4em 0.5em 0.4em;box-sizing: border-box;padding-bottom: 0.4em;background-color: white;}#sk-container-id-3 div.sk-label label {font-family: monospace;font-weight: bold;display: inline-block;line-height: 1.2em;}#sk-container-id-3 div.sk-label-container {text-align: center;}#sk-container-id-3 div.sk-container {/* jupyter's `normalize.less` sets `[hidden] { display: none; }` but bootstrap.min.css set `[hidden] { display: none !important; }` so we also need the `!important` here to be able to override the default hidden behavior on the sphinx rendered scikit-learn.org. See: https://github.com/scikit-learn/scikit-learn/issues/21755 */display: inline-block !important;position: relative;}#sk-container-id-3 div.sk-text-repr-fallback {display: none;}</style><div id=\"sk-container-id-3\" class=\"sk-top-container\"><div class=\"sk-text-repr-fallback\"><pre>LatentDirichletAllocation(n_jobs=-1, random_state=0)</pre><b>In a Jupyter environment, please rerun this cell to show the HTML representation or trust the notebook. <br />On GitHub, the HTML representation is unable to render, please try loading this page with nbviewer.org.</b></div><div class=\"sk-container\" hidden><div class=\"sk-item\"><div class=\"sk-estimator sk-toggleable\"><input class=\"sk-toggleable__control sk-hidden--visually\" id=\"sk-estimator-id-3\" type=\"checkbox\" checked><label for=\"sk-estimator-id-3\" class=\"sk-toggleable__label sk-toggleable__label-arrow\">LatentDirichletAllocation</label><div class=\"sk-toggleable__content\"><pre>LatentDirichletAllocation(n_jobs=-1, random_state=0)</pre></div></div></div></div></div>"
      ],
      "text/plain": [
       "LatentDirichletAllocation(n_jobs=-1, random_state=0)"
      ]
     },
     "execution_count": 65,
     "metadata": {},
     "output_type": "execute_result"
    }
   ],
   "source": [
    "%%time\n",
    "########################################################################\n",
    "######################### Write your code here #########################\n",
    "########################################################################\n",
    "num_topics = 10\n",
    "\n",
    "from sklearn.decomposition import LatentDirichletAllocation\n",
    "lda = LatentDirichletAllocation(n_components=num_topics,max_iter=10,n_jobs=-1, random_state=0)\n",
    "lda.fit(X_tfidf)"
   ]
  },
  {
   "cell_type": "markdown",
   "metadata": {},
   "source": [
    "Now each app can be viewed as a distribution over these 10 topics, and each topic is a distribution over all the permissions in the data."
   ]
  },
  {
   "cell_type": "markdown",
   "metadata": {},
   "source": [
    "### Part E: List the top 10 \"words\" in each topic [15 points]\n",
    "\n",
    "Do any of the topics correspond to meaningful app \"purposes\"? List the ones you find meaningful below:\n",
    "\n",
    "   * Topic #i: \"your interpretation\""
   ]
  },
  {
   "cell_type": "code",
   "execution_count": 66,
   "metadata": {},
   "outputs": [],
   "source": [
    "topic_word_distributions = np.array([row / row.sum() for row in lda.components_])"
   ]
  },
  {
   "cell_type": "code",
   "execution_count": 67,
   "metadata": {},
   "outputs": [
    {
     "data": {
      "text/plain": [
       "(10, 173)"
      ]
     },
     "execution_count": 67,
     "metadata": {},
     "output_type": "execute_result"
    }
   ],
   "source": [
    "topic_word_distributions.shape\n"
   ]
  },
  {
   "cell_type": "code",
   "execution_count": 68,
   "metadata": {},
   "outputs": [
    {
     "name": "stdout",
     "output_type": "stream",
     "text": [
      "Displaying the top 10 words per topic and their probabilities within the topic...\n",
      "\n",
      "[Topic 0]\n",
      "Your location : coarse (network-based) location (D) : 0.25644949994911365\n",
      "Your location : fine (GPS) location (D) : 0.24650468420432847\n",
      "Network communication : full Internet access (D) : 0.1542150017602115\n",
      "Network communication : view network state (S) : 0.10148873290783791\n",
      "Phone calls : read phone state and identity (D) : 0.08057643744231588\n",
      "Storage : modify/delete USB storage contents modify/delete SD card contents (D) : 0.06369555562003526\n",
      "Services that cost you money : directly call phone numbers (D) : 0.05193934584426721\n",
      "Your personal information : read sensitive log data (D) : 0.021990441913125703\n",
      "Network communication : view Wi-Fi state (S) : 0.019562355914579662\n",
      "Default : access checkin properties (S) : 0.0009866530013707693\n",
      "\n",
      "[Topic 1]\n",
      "Hardware controls : control vibrator (S) : 0.44428245980772507\n",
      "Network communication : full Internet access (D) : 0.14349279845405583\n",
      "Network communication : view network state (S) : 0.09665306202958618\n",
      "Storage : modify/delete USB storage contents modify/delete SD card contents (D) : 0.06544932291016664\n",
      "System tools : disable keylock (D) : 0.0578483142104333\n",
      "Phone calls : read phone state and identity (D) : 0.055298438375740396\n",
      "System tools : prevent device from sleeping (D) : 0.0347238675649182\n",
      "Hardware controls : change your audio settings (D) : 0.028542536008517763\n",
      "Default : modify battery statistics (S) : 0.019679619165049792\n",
      "System tools : modify global system settings (D) : 0.01908781593834463\n",
      "\n",
      "[Topic 2]\n",
      "Network communication : full Internet access (D) : 0.7022104877222052\n",
      "Network communication : view network state (S) : 0.2972615958455252\n",
      "Your accounts : Google Finance (D) : 5.9160382805256755e-05\n",
      "Your personal information : read contact data (D) : 2.757393541293915e-06\n",
      "System tools : modify global system settings (D) : 2.7573917637574935e-06\n",
      "Your accounts : view configured accounts (S) : 2.7573913758253987e-06\n",
      "Your accounts : discover known accounts (S) : 2.757391079126519e-06\n",
      "Services that cost you money : send SMS messages (D) : 2.757389580027534e-06\n",
      "Your accounts : use the authentication credentials of an account (D) : 2.7573889337502497e-06\n",
      "Your messages : receive SMS (D) : 2.7573889067662275e-06\n",
      "\n",
      "[Topic 3]\n",
      "Your accounts : discover known accounts (S) : 0.12154453716972817\n",
      "Default : directly install applications (S) : 0.04705666307092217\n",
      "Your accounts : use the authentication credentials of an account (D) : 0.03938290671674154\n",
      "Storage : modify/delete USB storage contents modify/delete SD card contents (D) : 0.03779231511440099\n",
      "Network communication : view network state (S) : 0.03539161142828196\n",
      "System tools : prevent device from sleeping (D) : 0.03173852616796887\n",
      "Network communication : full Internet access (D) : 0.03163419630183332\n",
      "Your accounts : manage the accounts list (D) : 0.02528379966568349\n",
      "Default : delete applications (S) : 0.023862789752214873\n",
      "Phone calls : read phone state and identity (D) : 0.023670102090810597\n",
      "\n",
      "[Topic 4]\n",
      "System tools : prevent device from sleeping (D) : 0.3379350324615737\n",
      "Network communication : full Internet access (D) : 0.11227845457157214\n",
      "System tools : automatically start at boot (S) : 0.10724084269992443\n",
      "Storage : modify/delete USB storage contents modify/delete SD card contents (D) : 0.10714731059080887\n",
      "Network communication : view network state (S) : 0.10165807619125712\n",
      "Phone calls : read phone state and identity (D) : 0.08164227229362722\n",
      "Hardware controls : control vibrator (S) : 0.07358393790570714\n",
      "System tools : change your UI settings (D) : 0.030525722674708693\n",
      "System tools : set wallpaper size hints (S) : 0.021760289030034338\n",
      "System tools : set wallpaper (S) : 0.011277092388082333\n",
      "\n",
      "[Topic 5]\n",
      "Storage : modify/delete USB storage contents modify/delete SD card contents (D) : 0.3760892153240738\n",
      "System tools : set wallpaper (S) : 0.2054748845228797\n",
      "Network communication : full Internet access (D) : 0.1898283171490312\n",
      "Network communication : view network state (S) : 0.14522215748113848\n",
      "Phone calls : read phone state and identity (D) : 0.06869755442976357\n",
      "System tools : mount and unmount filesystems (D) : 0.011141180722457258\n",
      "Default : bind to a wallpaper (S) : 0.0028633145154530453\n",
      "Default : write instant messages (S) : 2.1774446195713747e-05\n",
      "Default : read instant messages (S) : 2.1774446195713747e-05\n",
      "Hardware controls : take pictures and videos (D) : 1.7320468095584497e-05\n",
      "\n",
      "[Topic 6]\n",
      "Hardware controls : take pictures and videos (D) : 0.16091844111603176\n",
      "Hardware controls : record audio (D) : 0.07778233563210442\n",
      "Storage : modify/delete USB storage contents modify/delete SD card contents (D) : 0.0757037404575044\n",
      "Your location : fine (GPS) location (D) : 0.06823501619970175\n",
      "Your location : coarse (network-based) location (D) : 0.05995565536274735\n",
      "Network communication : full Internet access (D) : 0.05977006415273047\n",
      "Network communication : view network state (S) : 0.0524581887874515\n",
      "Hardware controls : control vibrator (S) : 0.05150122263590722\n",
      "Your location : access extra location provider commands (S) : 0.04906328118751927\n",
      "Phone calls : read phone state and identity (D) : 0.04382086890317901\n",
      "\n",
      "[Topic 7]\n",
      "Network communication : view Wi-Fi state (S) : 0.23694759941344326\n",
      "Phone calls : read phone state and identity (D) : 0.22487489881395697\n",
      "Network communication : view network state (S) : 0.1502788491519652\n",
      "Network communication : full Internet access (D) : 0.14741073127711904\n",
      "Storage : modify/delete USB storage contents modify/delete SD card contents (D) : 0.06599457544354956\n",
      "System tools : change Wi-Fi state (D) : 0.05456501079275345\n",
      "Network communication : create Bluetooth connections (D) : 0.038163628680153994\n",
      "System tools : bluetooth administration (D) : 0.03111388048812761\n",
      "System tools : change network connectivity (D) : 0.02835579466660495\n",
      "System tools : allow Wi-Fi Multicast reception (D) : 0.009619561481011724\n",
      "\n",
      "[Topic 8]\n",
      "System tools : retrieve running applications (D) : 0.1136979878365774\n",
      "Phone calls : read phone state and identity (D) : 0.08588209113215736\n",
      "Services that cost you money : directly call phone numbers (D) : 0.08428464884229923\n",
      "Network communication : view network state (S) : 0.08295141294365374\n",
      "Network communication : receive data from Internet (S) : 0.08219554907829285\n",
      "Network communication : full Internet access (D) : 0.0820991087273184\n",
      "Storage : modify/delete USB storage contents modify/delete SD card contents (D) : 0.06673866129616035\n",
      "System tools : prevent device from sleeping (D) : 0.05125623950649245\n",
      "Hardware controls : control vibrator (S) : 0.050376265478662974\n",
      "Your location : fine (GPS) location (D) : 0.04907462973077025\n",
      "\n",
      "[Topic 9]\n",
      "Your personal information : read contact data (D) : 0.13076786534474716\n",
      "Services that cost you money : send SMS messages (D) : 0.08637434724770972\n",
      "System tools : modify global system settings (D) : 0.07059999055274957\n",
      "Phone calls : read phone state and identity (D) : 0.05251838925791303\n",
      "Your messages : receive SMS (D) : 0.05207205478895383\n",
      "Network communication : full Internet access (D) : 0.04205572808622037\n",
      "Your personal information : write contact data (D) : 0.041641835096047845\n",
      "Your messages : read SMS or MMS (D) : 0.03985323472190652\n",
      "Phone calls : intercept outgoing calls (D) : 0.03951564081645256\n",
      "System tools : automatically start at boot (S) : 0.03829949237982627\n",
      "\n"
     ]
    }
   ],
   "source": [
    "########################################################################\n",
    "######################### Write your code here #########################\n",
    "########################################################################\n",
    "\n",
    "# here I used the code from lecture demo only changing and adding the permission's names inside the functions since \n",
    "# we are only getting the value of distribution in the permissions.\n",
    "num_top_words = 10\n",
    "\n",
    "def print_top_words(topic_word_distributions, num_top_words, vectorizer):\n",
    "    vocab = vectorizer.get_feature_names_out()\n",
    "    num_topics = len(topic_word_distributions)\n",
    "    print('Displaying the top %d words per topic and their probabilities within the topic...' % num_top_words)\n",
    "    print()\n",
    "\n",
    "    for topic_idx in range(num_topics):\n",
    "        print('[Topic ', topic_idx, ']', sep='')\n",
    "        sort_indices = np.argsort(-topic_word_distributions[topic_idx])\n",
    "        for rank in range(num_top_words):\n",
    "            word_idx = sort_indices[rank]\n",
    "            print(permission_columns[word_idx], ':',\n",
    "                  topic_word_distributions[topic_idx, word_idx])\n",
    "        print()\n",
    "\n",
    "print_top_words(topic_word_distributions, num_top_words, tfidf_transformer)"
   ]
  },
  {
   "cell_type": "markdown",
   "metadata": {},
   "source": [
    "*** WRITE YOUR ANSWER HERE IN TEXT ***\n",
    "\n",
    "topic 0 can be some map applications\n",
    "topic 1 I am not sure\n",
    "topic 2 can be some text app\n",
    "topic 4 can be some settings\n",
    "topic 5 can be some wallpaper tools\n",
    "\n",
    "we can still see some interesting topics here differ from one another still there are some unknown topics. Afterall, these are just their permissions."
   ]
  },
  {
   "cell_type": "markdown",
   "metadata": {},
   "source": [
    "### Part F: For each topic, list the top 3 apps with at least 100000 ratings having the highest probability assigned to that topic [15 points]\n",
    "\n",
    "   - This further helps us understand what the topics actually mean.\n",
    "   - However, the data is noisy and this exercise may result in listing a bunch of obscure apps.\n",
    "   - Hence, filtering out all apps with less than 100000 ratings may help."
   ]
  },
  {
   "cell_type": "code",
   "execution_count": 69,
   "metadata": {},
   "outputs": [],
   "source": [
    "########################################################################\n",
    "######################### Write your code here #########################\n",
    "########################################################################\n",
    "doc_topic_matrix = lda.transform(X_tfidf)"
   ]
  },
  {
   "cell_type": "code",
   "execution_count": 70,
   "metadata": {},
   "outputs": [
    {
     "data": {
      "text/plain": [
       "(180295, 10)"
      ]
     },
     "execution_count": 70,
     "metadata": {},
     "output_type": "execute_result"
    }
   ],
   "source": [
    "doc_topic_matrix.shape\n"
   ]
  },
  {
   "cell_type": "code",
   "execution_count": 110,
   "metadata": {},
   "outputs": [],
   "source": [
    "rating_over_100k = [] #get the indexes of rating over 100k\n",
    "for i in range(len(app_ratings)):\n",
    "    if app_ratings[i] > 100000:\n",
    "        rating_over_100k.append(i)"
   ]
  },
  {
   "cell_type": "code",
   "execution_count": 113,
   "metadata": {},
   "outputs": [],
   "source": [
    "topic_matrix_100k = doc_topic_matrix[rating_over_100k,] #selecting the indexes over 100k"
   ]
  },
  {
   "cell_type": "code",
   "execution_count": 117,
   "metadata": {},
   "outputs": [
    {
     "data": {
      "text/plain": [
       "(95, 10)"
      ]
     },
     "execution_count": 117,
     "metadata": {},
     "output_type": "execute_result"
    }
   ],
   "source": [
    "topic_matrix_100k.shape"
   ]
  },
  {
   "cell_type": "code",
   "execution_count": 118,
   "metadata": {},
   "outputs": [],
   "source": [
    "df_2f = pd.DataFrame(topic_matrix_100k, columns = range(10))#convert into df"
   ]
  },
  {
   "cell_type": "code",
   "execution_count": 119,
   "metadata": {},
   "outputs": [
    {
     "data": {
      "text/html": [
       "<div>\n",
       "<style scoped>\n",
       "    .dataframe tbody tr th:only-of-type {\n",
       "        vertical-align: middle;\n",
       "    }\n",
       "\n",
       "    .dataframe tbody tr th {\n",
       "        vertical-align: top;\n",
       "    }\n",
       "\n",
       "    .dataframe thead th {\n",
       "        text-align: right;\n",
       "    }\n",
       "</style>\n",
       "<table border=\"1\" class=\"dataframe\">\n",
       "  <thead>\n",
       "    <tr style=\"text-align: right;\">\n",
       "      <th></th>\n",
       "      <th>0</th>\n",
       "      <th>1</th>\n",
       "      <th>2</th>\n",
       "      <th>3</th>\n",
       "      <th>4</th>\n",
       "      <th>5</th>\n",
       "      <th>6</th>\n",
       "      <th>7</th>\n",
       "      <th>8</th>\n",
       "      <th>9</th>\n",
       "    </tr>\n",
       "  </thead>\n",
       "  <tbody>\n",
       "    <tr>\n",
       "      <th>0</th>\n",
       "      <td>0.018412</td>\n",
       "      <td>0.018412</td>\n",
       "      <td>0.018407</td>\n",
       "      <td>0.706895</td>\n",
       "      <td>0.018412</td>\n",
       "      <td>0.018407</td>\n",
       "      <td>0.018412</td>\n",
       "      <td>0.145805</td>\n",
       "      <td>0.018415</td>\n",
       "      <td>0.018423</td>\n",
       "    </tr>\n",
       "    <tr>\n",
       "      <th>1</th>\n",
       "      <td>0.019843</td>\n",
       "      <td>0.019846</td>\n",
       "      <td>0.019843</td>\n",
       "      <td>0.509748</td>\n",
       "      <td>0.019845</td>\n",
       "      <td>0.019843</td>\n",
       "      <td>0.019843</td>\n",
       "      <td>0.019842</td>\n",
       "      <td>0.019845</td>\n",
       "      <td>0.331501</td>\n",
       "    </tr>\n",
       "    <tr>\n",
       "      <th>2</th>\n",
       "      <td>0.023667</td>\n",
       "      <td>0.023668</td>\n",
       "      <td>0.023668</td>\n",
       "      <td>0.023677</td>\n",
       "      <td>0.023691</td>\n",
       "      <td>0.023667</td>\n",
       "      <td>0.023674</td>\n",
       "      <td>0.548941</td>\n",
       "      <td>0.207133</td>\n",
       "      <td>0.078214</td>\n",
       "    </tr>\n",
       "    <tr>\n",
       "      <th>3</th>\n",
       "      <td>0.028328</td>\n",
       "      <td>0.028329</td>\n",
       "      <td>0.028335</td>\n",
       "      <td>0.319624</td>\n",
       "      <td>0.028328</td>\n",
       "      <td>0.201944</td>\n",
       "      <td>0.028328</td>\n",
       "      <td>0.028328</td>\n",
       "      <td>0.028327</td>\n",
       "      <td>0.280128</td>\n",
       "    </tr>\n",
       "    <tr>\n",
       "      <th>4</th>\n",
       "      <td>0.297006</td>\n",
       "      <td>0.033243</td>\n",
       "      <td>0.033252</td>\n",
       "      <td>0.033250</td>\n",
       "      <td>0.033254</td>\n",
       "      <td>0.033244</td>\n",
       "      <td>0.033244</td>\n",
       "      <td>0.033244</td>\n",
       "      <td>0.437016</td>\n",
       "      <td>0.033248</td>\n",
       "    </tr>\n",
       "    <tr>\n",
       "      <th>...</th>\n",
       "      <td>...</td>\n",
       "      <td>...</td>\n",
       "      <td>...</td>\n",
       "      <td>...</td>\n",
       "      <td>...</td>\n",
       "      <td>...</td>\n",
       "      <td>...</td>\n",
       "      <td>...</td>\n",
       "      <td>...</td>\n",
       "      <td>...</td>\n",
       "    </tr>\n",
       "    <tr>\n",
       "      <th>90</th>\n",
       "      <td>0.023667</td>\n",
       "      <td>0.023668</td>\n",
       "      <td>0.023668</td>\n",
       "      <td>0.023677</td>\n",
       "      <td>0.023691</td>\n",
       "      <td>0.023667</td>\n",
       "      <td>0.023674</td>\n",
       "      <td>0.548941</td>\n",
       "      <td>0.207133</td>\n",
       "      <td>0.078214</td>\n",
       "    </tr>\n",
       "    <tr>\n",
       "      <th>91</th>\n",
       "      <td>0.022719</td>\n",
       "      <td>0.022714</td>\n",
       "      <td>0.022711</td>\n",
       "      <td>0.369185</td>\n",
       "      <td>0.022720</td>\n",
       "      <td>0.082704</td>\n",
       "      <td>0.389110</td>\n",
       "      <td>0.022715</td>\n",
       "      <td>0.022711</td>\n",
       "      <td>0.022710</td>\n",
       "    </tr>\n",
       "    <tr>\n",
       "      <th>92</th>\n",
       "      <td>0.026397</td>\n",
       "      <td>0.026390</td>\n",
       "      <td>0.026393</td>\n",
       "      <td>0.026389</td>\n",
       "      <td>0.026403</td>\n",
       "      <td>0.026392</td>\n",
       "      <td>0.762465</td>\n",
       "      <td>0.026392</td>\n",
       "      <td>0.026392</td>\n",
       "      <td>0.026389</td>\n",
       "    </tr>\n",
       "    <tr>\n",
       "      <th>93</th>\n",
       "      <td>0.017476</td>\n",
       "      <td>0.017481</td>\n",
       "      <td>0.017476</td>\n",
       "      <td>0.246205</td>\n",
       "      <td>0.017483</td>\n",
       "      <td>0.017572</td>\n",
       "      <td>0.017475</td>\n",
       "      <td>0.017479</td>\n",
       "      <td>0.017481</td>\n",
       "      <td>0.613871</td>\n",
       "    </tr>\n",
       "    <tr>\n",
       "      <th>94</th>\n",
       "      <td>0.030291</td>\n",
       "      <td>0.030309</td>\n",
       "      <td>0.030294</td>\n",
       "      <td>0.030291</td>\n",
       "      <td>0.030312</td>\n",
       "      <td>0.030298</td>\n",
       "      <td>0.030293</td>\n",
       "      <td>0.030294</td>\n",
       "      <td>0.727328</td>\n",
       "      <td>0.030290</td>\n",
       "    </tr>\n",
       "  </tbody>\n",
       "</table>\n",
       "<p>95 rows × 10 columns</p>\n",
       "</div>"
      ],
      "text/plain": [
       "           0         1         2         3         4         5         6  \\\n",
       "0   0.018412  0.018412  0.018407  0.706895  0.018412  0.018407  0.018412   \n",
       "1   0.019843  0.019846  0.019843  0.509748  0.019845  0.019843  0.019843   \n",
       "2   0.023667  0.023668  0.023668  0.023677  0.023691  0.023667  0.023674   \n",
       "3   0.028328  0.028329  0.028335  0.319624  0.028328  0.201944  0.028328   \n",
       "4   0.297006  0.033243  0.033252  0.033250  0.033254  0.033244  0.033244   \n",
       "..       ...       ...       ...       ...       ...       ...       ...   \n",
       "90  0.023667  0.023668  0.023668  0.023677  0.023691  0.023667  0.023674   \n",
       "91  0.022719  0.022714  0.022711  0.369185  0.022720  0.082704  0.389110   \n",
       "92  0.026397  0.026390  0.026393  0.026389  0.026403  0.026392  0.762465   \n",
       "93  0.017476  0.017481  0.017476  0.246205  0.017483  0.017572  0.017475   \n",
       "94  0.030291  0.030309  0.030294  0.030291  0.030312  0.030298  0.030293   \n",
       "\n",
       "           7         8         9  \n",
       "0   0.145805  0.018415  0.018423  \n",
       "1   0.019842  0.019845  0.331501  \n",
       "2   0.548941  0.207133  0.078214  \n",
       "3   0.028328  0.028327  0.280128  \n",
       "4   0.033244  0.437016  0.033248  \n",
       "..       ...       ...       ...  \n",
       "90  0.548941  0.207133  0.078214  \n",
       "91  0.022715  0.022711  0.022710  \n",
       "92  0.026392  0.026392  0.026389  \n",
       "93  0.017479  0.017481  0.613871  \n",
       "94  0.030294  0.727328  0.030290  \n",
       "\n",
       "[95 rows x 10 columns]"
      ]
     },
     "execution_count": 119,
     "metadata": {},
     "output_type": "execute_result"
    }
   ],
   "source": [
    "df_2f"
   ]
  },
  {
   "cell_type": "code",
   "execution_count": 170,
   "metadata": {},
   "outputs": [
    {
     "name": "stdout",
     "output_type": "stream",
     "text": [
      "[Topic 0]\n",
      "Dictionary.com\n",
      "Air Control Lite\n",
      "Paper Toss\n",
      "\n",
      "[Topic 1]\n",
      "Live Holdem Poker Pro\n",
      "Vaulty Free Hides Pictures\n",
      "Drag Racing\n",
      "\n",
      "[Topic 2]\n",
      "Angry Birds Seasons\n",
      "Yoo Ninja! Free\n",
      "Adobe Reader\n",
      "\n",
      "[Topic 3]\n",
      "Lookout Security & Antivirus\n",
      "Antivirus Free\n",
      "Skype\n",
      "\n",
      "[Topic 4]\n",
      "Real BlackJack\n",
      "Alchemy\n",
      "Tank Hero\n",
      "\n",
      "[Topic 5]\n",
      "World Newspapers\n",
      "Paradise Island\n",
      "My Country\n",
      "\n",
      "[Topic 6]\n",
      "Brightest Flashlight Free™\n",
      "Brightest Flashlight Free???\n",
      "Tiny Flashlight + LED\n",
      "\n",
      "[Topic 7]\n",
      "Slice It!\n",
      "Racing Moto\n",
      "Blast Monkeys\n",
      "\n",
      "[Topic 8]\n",
      "TuneIn Radio\n",
      "Restaurant Story™\n",
      "Restaurant Story???\n",
      "\n",
      "[Topic 9]\n",
      "chompSMS\n",
      "Ringdroid\n",
      "Google Sky Map\n",
      "\n"
     ]
    }
   ],
   "source": [
    "for topic_idx in range(10):\n",
    "    j = 0\n",
    "    print('[Topic ', topic_idx, ']', sep='')\n",
    "    result = df_2f[topic_idx].argsort()[::-1]#get the result of sorted values in a topic column\n",
    "    while(j != 3):\n",
    "        print(app_names[rating_over_100k[result[94 - j]]]) #print the top 3 related topics\n",
    "        j +=1\n",
    "            \n",
    "    print()"
   ]
  },
  {
   "cell_type": "markdown",
   "metadata": {},
   "source": [
    "### Part G: Visualize the document-topic proportion matrix in 2-D using t-SNE [10 points]\n",
    "\n",
    "Does our reduced dimensional space contain any structure? Visualize the documents (in the topic-space) using t-SNE.\n",
    "\n",
    "   * Use `TSNE` from `scikit-learn`.\n",
    "   * Set the angle to 0.99 and init to 'PCA'. Pick any learning rate that gives you a visually pleasing result.\n",
    "   * You may `fit` TSNE to a sample of the data (>1000 documents) instead of the full data.\n",
    "   * Remember to call `fit_transform` to obtain your 2-D data.\n",
    "   * Plot the t-SNE dimensions as a scatterplot.\n",
    "   * Color each point based on its most probable topic. Make sure you include a legend (10 colors).\n",
    "   \n",
    "Clusters in the t-SNE plot indicate groups of apps that have similar topics."
   ]
  },
  {
   "cell_type": "code",
   "execution_count": 211,
   "metadata": {},
   "outputs": [
    {
     "data": {
      "text/plain": [
       "(10, 173)"
      ]
     },
     "execution_count": 211,
     "metadata": {},
     "output_type": "execute_result"
    }
   ],
   "source": [
    "labels = "
   ]
  },
  {
   "cell_type": "code",
   "execution_count": 213,
   "metadata": {},
   "outputs": [],
   "source": [
    "np.random.seed(0)\n",
    "X_sample = np.random.permutation(doc_topic_matrix)[:2000]"
   ]
  },
  {
   "cell_type": "code",
   "execution_count": 214,
   "metadata": {},
   "outputs": [
    {
     "data": {
      "text/plain": [
       "(2000, 10)"
      ]
     },
     "execution_count": 214,
     "metadata": {},
     "output_type": "execute_result"
    }
   ],
   "source": [
    "X_sample.shape"
   ]
  },
  {
   "cell_type": "code",
   "execution_count": 227,
   "metadata": {},
   "outputs": [],
   "source": [
    "labels = np.argmax(X_sample, axis=1)"
   ]
  },
  {
   "cell_type": "code",
   "execution_count": 216,
   "metadata": {},
   "outputs": [
    {
     "name": "stdout",
     "output_type": "stream",
     "text": [
      "[t-SNE] Computing 16 nearest neighbors...\n",
      "[t-SNE] Indexed 2000 samples in 0.002s...\n",
      "[t-SNE] Computed neighbors for 2000 samples in 0.021s...\n",
      "[t-SNE] Computed conditional probabilities for sample 1000 / 2000\n",
      "[t-SNE] Computed conditional probabilities for sample 2000 / 2000\n",
      "[t-SNE] Mean sigma: 0.000000\n",
      "[t-SNE] KL divergence after 250 iterations with early exaggeration: 89.217148\n",
      "[t-SNE] KL divergence after 1000 iterations: 1.823456\n",
      "CPU times: user 10.2 s, sys: 2.88 s, total: 13 s\n",
      "Wall time: 1.79 s\n"
     ]
    }
   ],
   "source": [
    "%%time\n",
    "########################################################################\n",
    "######################### Write your code here #########################\n",
    "########################################################################\n",
    "\n",
    "\n",
    "from sklearn.manifold import TSNE\n",
    "import matplotlib.pyplot as plt\n",
    "\n",
    "\n",
    "# *WARNING*: *despite* what the sklearn documentation says for t-SNE, the perplexity parameter\n",
    "# does matter! a helpful article to read: https://distill.pub/2016/misread-tsne/\n",
    "tsne = TSNE(n_components=2, perplexity=5,learning_rate=0.1, n_iter=1000, init='pca', verbose=1, random_state=0,angle=0.99)\n",
    "swiss_roll_tsne = tsne.fit_transform(X_sample)\n",
    "\n"
   ]
  },
  {
   "cell_type": "code",
   "execution_count": 236,
   "metadata": {},
   "outputs": [
    {
     "data": {
      "text/plain": [
       "<matplotlib.collections.PathCollection at 0x37e3a0bd0>"
      ]
     },
     "execution_count": 236,
     "metadata": {},
     "output_type": "execute_result"
    },
    {
     "data": {
      "image/png": "[encoded data removed]",
      "text/plain": [
       "<Figure size 1200x600 with 1 Axes>"
      ]
     },
     "metadata": {},
     "output_type": "display_data"
    }
   ],
   "source": [
    "plt.figure(figsize=(12, 6))\n",
    "plt.scatter(swiss_roll_tsne[:,0], swiss_roll_tsne[:,1], c=labels, cmap='Set2')"
   ]
  },
  {
   "cell_type": "markdown",
   "metadata": {},
   "source": [
    "## Question 3: Questionnaire [5 points]\n",
    "\n",
    "Please answer this survey after you have done this homework: https://forms.gle/8i5htD6oXMr1nK958"
   ]
  }
 ],
 "metadata": {
  "kernelspec": {
   "display_name": "Python 3 (ipykernel)",
   "language": "python",
   "name": "python3"
  },
  "language_info": {
   "codemirror_mode": {
    "name": "ipython",
    "version": 3
   },
   "file_extension": ".py",
   "mimetype": "text/x-python",
   "name": "python",
   "nbconvert_exporter": "python",
   "pygments_lexer": "ipython3",
   "version": "3.11.4"
  }
 },
 "nbformat": 4,
 "nbformat_minor": 2
}
